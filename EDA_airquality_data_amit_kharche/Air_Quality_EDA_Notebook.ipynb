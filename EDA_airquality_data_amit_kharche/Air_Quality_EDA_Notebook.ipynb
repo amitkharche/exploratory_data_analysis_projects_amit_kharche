{
 "cells": [
  {
   "cell_type": "markdown",
   "id": "01d4c110",
   "metadata": {},
   "source": [
    "# 1. Introduction\n",
    "\n",
    "This notebook explores the Air Quality dataset from UCI Machine Learning Repository to understand the patterns, trends, and insights into air pollution data."
   ]
  },
  {
   "cell_type": "markdown",
   "id": "fd4f8fbc",
   "metadata": {},
   "source": [
    "# 2. Problem Statement\n",
    "\n",
    "To analyze air quality data by exploring pollutant levels, identifying patterns, handling missing values, and visualizing relationships among various environmental variables."
   ]
  },
  {
   "cell_type": "markdown",
   "id": "4a0d6e70",
   "metadata": {},
   "source": [
    "# 3. Installing & Importing Libraries"
   ]
  },
  {
   "cell_type": "code",
   "execution_count": null,
   "id": "b3921fe2",
   "metadata": {},
   "outputs": [],
   "source": [
    "!pip install pandas numpy matplotlib seaborn plotly -q"
   ]
  },
  {
   "cell_type": "code",
   "execution_count": null,
   "id": "3cec265f",
   "metadata": {},
   "outputs": [],
   "source": [
    "import pandas as pd\n",
    "import numpy as np\n",
    "import matplotlib.pyplot as plt\n",
    "import seaborn as sns\n",
    "import plotly.express as px\n",
    "import plotly.graph_objects as go\n",
    "import warnings\n",
    "warnings.filterwarnings('ignore')"
   ]
  },
  {
   "cell_type": "markdown",
   "id": "66411d1b",
   "metadata": {},
   "source": [
    "# 4. Data Acquisition & Description"
   ]
  },
  {
   "cell_type": "code",
   "execution_count": null,
   "id": "df7c41db",
   "metadata": {},
   "outputs": [],
   "source": [
    "df = pd.read_csv('https://archive.ics.uci.edu/ml/machine-learning-databases/00360/AirQualityUCI.csv', sep=';', decimal=',')\n",
    "df = df.iloc[:, :-2]\n",
    "df.columns = df.columns.str.strip()\n",
    "df['Datetime'] = pd.to_datetime(df['Date'] + ' ' + df['Time'], dayfirst=True)\n",
    "df.drop(columns=['Date', 'Time'], inplace=True)\n",
    "df.head()"
   ]
  },
  {
   "cell_type": "markdown",
   "id": "9442d755",
   "metadata": {},
   "source": [
    "# 5. Data Pre-Profiling"
   ]
  },
  {
   "cell_type": "code",
   "execution_count": null,
   "id": "3a73685e",
   "metadata": {},
   "outputs": [],
   "source": [
    "df.info()\n",
    "df.describe()\n",
    "df.isnull().sum()"
   ]
  },
  {
   "cell_type": "markdown",
   "id": "d92fbe05",
   "metadata": {},
   "source": [
    "# 6. Data Pre-Processing"
   ]
  },
  {
   "cell_type": "code",
   "execution_count": null,
   "id": "facabbdd",
   "metadata": {},
   "outputs": [],
   "source": [
    "df.replace(-200, np.nan, inplace=True)\n",
    "df.drop(columns=['NMHC(GT)'], inplace=True)\n",
    "df.fillna(df.median(numeric_only=True), inplace=True)"
   ]
  },
  {
   "cell_type": "markdown",
   "id": "de12e5f3",
   "metadata": {},
   "source": [
    "# 7. Data Post-Profiling"
   ]
  },
  {
   "cell_type": "code",
   "execution_count": null,
   "id": "c5145069",
   "metadata": {},
   "outputs": [],
   "source": [
    "df.describe()\n",
    "df.isnull().sum()"
   ]
  },
  {
   "cell_type": "markdown",
   "id": "15018e58",
   "metadata": {},
   "source": [
    "# 8. Exploratory Data Analysis\n",
    "\n",
    "Visualizations answering key questions about the data."
   ]
  },
  {
   "cell_type": "markdown",
   "id": "1223631f",
   "metadata": {},
   "source": [
    "### Q: What is the average CO concentration over time?"
   ]
  },
  {
   "cell_type": "code",
   "execution_count": null,
   "id": "7da4f3f8",
   "metadata": {},
   "outputs": [],
   "source": [
    "px.line(df, x='Datetime', y='CO(GT)', title='Average CO Concentration Over Time').show()"
   ]
  },
  {
   "cell_type": "markdown",
   "id": "078072b4",
   "metadata": {},
   "source": [
    "### Q: How does temperature vary over the recorded period?"
   ]
  },
  {
   "cell_type": "code",
   "execution_count": null,
   "id": "fda13ad4",
   "metadata": {},
   "outputs": [],
   "source": [
    "px.line(df, x='Datetime', y='T', title='Temperature Variation Over Time').show()"
   ]
  },
  {
   "cell_type": "markdown",
   "id": "07830ad3",
   "metadata": {},
   "source": [
    "### Q: Which pollutants are most correlated?"
   ]
  },
  {
   "cell_type": "code",
   "execution_count": null,
   "id": "ef806587",
   "metadata": {},
   "outputs": [],
   "source": [
    "sns.heatmap(df.corr(numeric_only=True), annot=True, cmap='coolwarm'); plt.title('Feature Correlation Heatmap'); plt.show()"
   ]
  },
  {
   "cell_type": "markdown",
   "id": "ca4b48fb",
   "metadata": {},
   "source": [
    "### Q: What is the distribution of NO2(GT)?"
   ]
  },
  {
   "cell_type": "code",
   "execution_count": null,
   "id": "4e64ea37",
   "metadata": {},
   "outputs": [],
   "source": [
    "sns.histplot(df['NO2(GT)'], kde=True, color='skyblue'); plt.title('Distribution of NO2(GT)'); plt.show()"
   ]
  },
  {
   "cell_type": "markdown",
   "id": "819ccc89",
   "metadata": {},
   "source": [
    "### Q: How does relative humidity relate to temperature?"
   ]
  },
  {
   "cell_type": "code",
   "execution_count": null,
   "id": "a6013076",
   "metadata": {},
   "outputs": [],
   "source": [
    "sns.scatterplot(data=df, x='T', y='RH'); plt.title('Relative Humidity vs Temperature'); plt.show()"
   ]
  },
  {
   "cell_type": "markdown",
   "id": "48cbca56",
   "metadata": {},
   "source": [
    "### Q: Are benzene (C6H6) levels related to other pollutants?"
   ]
  },
  {
   "cell_type": "code",
   "execution_count": null,
   "id": "5ab158ae",
   "metadata": {},
   "outputs": [],
   "source": [
    "sns.scatterplot(data=df, x='C6H6(GT)', y='CO(GT)'); plt.title('Benzene vs CO Levels'); plt.show()"
   ]
  },
  {
   "cell_type": "markdown",
   "id": "7cf01799",
   "metadata": {},
   "source": [
    "### Q: Which time of day has peak pollution?"
   ]
  },
  {
   "cell_type": "code",
   "execution_count": null,
   "id": "25387520",
   "metadata": {},
   "outputs": [],
   "source": [
    "df['Hour'] = df['Datetime'].dt.hour\n",
    "sns.boxplot(x='Hour', y='CO(GT)', data=df); plt.title('Hourly CO Levels'); plt.show()"
   ]
  },
  {
   "cell_type": "markdown",
   "id": "500c19d3",
   "metadata": {},
   "source": [
    "### Q: How do gas sensor responses relate to pollutant levels?"
   ]
  },
  {
   "cell_type": "code",
   "execution_count": null,
   "id": "7567d9cb",
   "metadata": {},
   "outputs": [],
   "source": [
    "sns.pairplot(df[['PT08.S1(CO)', 'PT08.S2(NMHC)', 'PT08.S3(NOx)', 'PT08.S4(NO2)', 'PT08.S5(O3)']]); plt.suptitle('Sensor Response Patterns', y=1.02); plt.show()"
   ]
  },
  {
   "cell_type": "markdown",
   "id": "bbf8dcb8",
   "metadata": {},
   "source": [
    "### Q: What is the seasonal trend of CO?"
   ]
  },
  {
   "cell_type": "code",
   "execution_count": null,
   "id": "2f6eddfb",
   "metadata": {},
   "outputs": [],
   "source": [
    "df['Month'] = df['Datetime'].dt.month\n",
    "sns.boxplot(x='Month', y='CO(GT)', data=df); plt.title('Monthly CO Levels'); plt.show()"
   ]
  },
  {
   "cell_type": "markdown",
   "id": "4c5e8db7",
   "metadata": {},
   "source": [
    "### Q: What is the pattern of Absolute Humidity over time?"
   ]
  },
  {
   "cell_type": "code",
   "execution_count": null,
   "id": "3b95d533",
   "metadata": {},
   "outputs": [],
   "source": [
    "px.line(df, x='Datetime', y='AH', title='Absolute Humidity Over Time').show()"
   ]
  },
  {
   "cell_type": "markdown",
   "id": "b557256b",
   "metadata": {},
   "source": [
    "# 9. Summarization"
   ]
  },
  {
   "cell_type": "markdown",
   "id": "7836507c",
   "metadata": {},
   "source": [
    "## 9.1 Conclusion\n",
    "\n",
    "- The dataset reveals temporal patterns in pollution.\n",
    "- Some features had too many missing values and were removed.\n",
    "- Sensor responses are strongly correlated with specific pollutants.\n",
    "\n",
    "## 9.2 Actionable Insights\n",
    "\n",
    "- Peak pollution is observed during specific hours—likely due to traffic.\n",
    "- CO and NO2 show clear seasonality.\n",
    "- Deploying sensors with focus on key hours can aid real-time alerts."
   ]
  }
 ],
 "metadata": {},
 "nbformat": 4,
 "nbformat_minor": 5
}