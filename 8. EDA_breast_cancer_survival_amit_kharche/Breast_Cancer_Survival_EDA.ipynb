{
 "cells": [
  {
   "cell_type": "markdown",
   "id": "9486617b",
   "metadata": {},
   "source": [
    "# 1. Introduction\n",
    "\n",
    "This notebook explores the Breast Cancer Survival dataset to understand key factors influencing survival outcomes of patients."
   ]
  },
  {
   "cell_type": "markdown",
   "id": "50328446",
   "metadata": {},
   "source": [
    "# 2. Problem Statement\n",
    "\n",
    "To identify important features such as age, operation year, and lymph node count that influence survival rates of breast cancer patients."
   ]
  },
  {
   "cell_type": "markdown",
   "id": "4350a113",
   "metadata": {},
   "source": [
    "# 3. Installing & Importing Libraries"
   ]
  },
  {
   "cell_type": "code",
   "execution_count": null,
   "id": "08dedaeb",
   "metadata": {},
   "outputs": [],
   "source": [
    "!pip install pandas numpy matplotlib seaborn pandas-profiling -q"
   ]
  },
  {
   "cell_type": "code",
   "execution_count": null,
   "id": "ad9706cc",
   "metadata": {},
   "outputs": [],
   "source": [
    "import numpy as np\n",
    "import pandas as pd\n",
    "import matplotlib.pyplot as plt\n",
    "import seaborn as sns\n",
    "import pandas_profiling\n",
    "sns.set()"
   ]
  },
  {
   "cell_type": "markdown",
   "id": "cab8bb57",
   "metadata": {},
   "source": [
    "# 4. Data Acquisition & Description"
   ]
  },
  {
   "cell_type": "code",
   "execution_count": null,
   "id": "285a4401",
   "metadata": {},
   "outputs": [],
   "source": [
    "data = pd.read_csv('Breast_cancer_survival.csv')\n",
    "data.head()"
   ]
  },
  {
   "cell_type": "markdown",
   "id": "c87be3d8",
   "metadata": {},
   "source": [
    "# 5. Data Pre-Profiling"
   ]
  },
  {
   "cell_type": "code",
   "execution_count": null,
   "id": "6fa8dc26",
   "metadata": {},
   "outputs": [],
   "source": [
    "data.shape\n",
    "data.columns\n",
    "data.info()\n",
    "data.describe()\n",
    "data.isnull().sum()"
   ]
  },
  {
   "cell_type": "markdown",
   "id": "051f3ac0",
   "metadata": {},
   "source": [
    "# 6. Data Pre-Processing"
   ]
  },
  {
   "cell_type": "code",
   "execution_count": null,
   "id": "34965de3",
   "metadata": {},
   "outputs": [],
   "source": [
    "data.columns = map(str.lower, data.columns)\n",
    "data.isnull().sum()"
   ]
  },
  {
   "cell_type": "markdown",
   "id": "bab98725",
   "metadata": {},
   "source": [
    "# 7. Data Post-Profiling"
   ]
  },
  {
   "cell_type": "code",
   "execution_count": null,
   "id": "e3e75ffa",
   "metadata": {},
   "outputs": [],
   "source": [
    "print(\"Survival status count: \\n\", data.status.value_counts())\n",
    "print(\"Patient survived 5 years or longer (%):\", 225/306*100)\n",
    "print(\"Patient died within 5 years (%):\", 81/306*100)\n",
    "profile = pandas_profiling.ProfileReport(data)\n",
    "profile.to_file(output_file=\"Breast_cancer_survival_before_preprocessing.html\")"
   ]
  },
  {
   "cell_type": "markdown",
   "id": "6a59ec26",
   "metadata": {},
   "source": [
    "# 8. Exploratory Data Analysis\n",
    "\n",
    "Visualizations answering important exploratory questions."
   ]
  },
  {
   "cell_type": "markdown",
   "id": "834c0f53",
   "metadata": {},
   "source": [
    "### Status Count"
   ]
  },
  {
   "cell_type": "code",
   "execution_count": null,
   "id": "82df25de",
   "metadata": {},
   "outputs": [],
   "source": [
    "sns.countplot(x='status', data=data).set_title('Survival after 5 years: 1 = Yes, 2 = No')"
   ]
  },
  {
   "cell_type": "markdown",
   "id": "38c8c596",
   "metadata": {},
   "source": [
    "### Age Class Grouping"
   ]
  },
  {
   "cell_type": "code",
   "execution_count": null,
   "id": "50204fa6",
   "metadata": {},
   "outputs": [],
   "source": [
    "data['age_class'] = pd.cut(data['age'], [30,40,50,60,90], labels=['<=40','41-50','51-60','>60'])\n",
    "data['age_class'].value_counts().plot(kind='bar', title='Patients Age Group Distribution')\n",
    "plt.show()"
   ]
  },
  {
   "cell_type": "markdown",
   "id": "d8d34116",
   "metadata": {},
   "source": [
    "### Survival by Age Group"
   ]
  },
  {
   "cell_type": "code",
   "execution_count": null,
   "id": "36a942db",
   "metadata": {},
   "outputs": [],
   "source": [
    "data['survival_1'] = pd.cut(data['status'], [0,1], labels=['Survived > 5 years'])\n",
    "data.groupby(['age_class', 'survival_1'])['survival_1'].count().unstack().plot(kind='bar', stacked=True, title='Survival by Age Group')\n",
    "plt.show()"
   ]
  },
  {
   "cell_type": "markdown",
   "id": "b43d2c32",
   "metadata": {},
   "source": [
    "### Scatter Plot"
   ]
  },
  {
   "cell_type": "code",
   "execution_count": null,
   "id": "0cc2516f",
   "metadata": {},
   "outputs": [],
   "source": [
    "data.plot.scatter(x='age', y='pos_axillary_nodes')\n",
    "plt.title('Axillary Nodes vs Age')\n",
    "plt.show()"
   ]
  },
  {
   "cell_type": "markdown",
   "id": "ff3dc243",
   "metadata": {},
   "source": [
    "### Correlation Heatmap"
   ]
  },
  {
   "cell_type": "code",
   "execution_count": null,
   "id": "5dc0f881",
   "metadata": {},
   "outputs": [],
   "source": [
    "plt.figure(figsize=(6,6))\n",
    "sns.heatmap(data.corr(), annot=True, cmap='YlGnBu')\n",
    "plt.title('Correlation Heatmap')\n",
    "plt.show()"
   ]
  },
  {
   "cell_type": "markdown",
   "id": "3520735f",
   "metadata": {},
   "source": [
    "### Pair Plot"
   ]
  },
  {
   "cell_type": "code",
   "execution_count": null,
   "id": "6efaf47f",
   "metadata": {},
   "outputs": [],
   "source": [
    "sns.pairplot(data, hue='status')\n",
    "plt.show()"
   ]
  },
  {
   "cell_type": "markdown",
   "id": "e826780c",
   "metadata": {},
   "source": [
    "### Operation Year vs Survival"
   ]
  },
  {
   "cell_type": "code",
   "execution_count": null,
   "id": "cfdda380",
   "metadata": {},
   "outputs": [],
   "source": [
    "sns.countplot(x='years_of_operation', data=data, hue='status').set_title('Survival by Year of Operation')\n",
    "plt.show()"
   ]
  },
  {
   "cell_type": "markdown",
   "id": "ef2adbf1",
   "metadata": {},
   "source": [
    "### Violin Plot: Year of Operation"
   ]
  },
  {
   "cell_type": "code",
   "execution_count": null,
   "id": "576ddc6a",
   "metadata": {},
   "outputs": [],
   "source": [
    "sns.violinplot(x='status', y='years_of_operation', data=data, palette='cool')\n",
    "plt.title('Survival based on Year of Operation')\n",
    "plt.show()"
   ]
  },
  {
   "cell_type": "markdown",
   "id": "1592dab1",
   "metadata": {},
   "source": [
    "### Violin Plot: Axillary Nodes"
   ]
  },
  {
   "cell_type": "code",
   "execution_count": null,
   "id": "6b6c1169",
   "metadata": {},
   "outputs": [],
   "source": [
    "sns.violinplot(x='status', y='pos_axillary_nodes', data=data, palette='cool')\n",
    "plt.title('Survival based on Axillary Nodes')\n",
    "plt.show()"
   ]
  },
  {
   "cell_type": "markdown",
   "id": "9448173e",
   "metadata": {},
   "source": [
    "### Age Distribution by Status"
   ]
  },
  {
   "cell_type": "code",
   "execution_count": null,
   "id": "28beeb07",
   "metadata": {},
   "outputs": [],
   "source": [
    "sns.histplot(data=data, x='age', hue='status', bins=15, kde=True)\n",
    "plt.title('Age Distribution by Survival Status')\n",
    "plt.show()"
   ]
  },
  {
   "cell_type": "markdown",
   "id": "283f8c9e",
   "metadata": {},
   "source": [
    "# 9. Summarization"
   ]
  },
  {
   "cell_type": "markdown",
   "id": "bcc3441e",
   "metadata": {},
   "source": [
    "## 9.1 Conclusion\n",
    "\n",
    "- Most patients who survived had fewer positive axillary nodes.\n",
    "- Age and operation year impact survival outcomes.\n",
    "- There’s visible variation by patient demographics and clinical measures.\n",
    "\n",
    "## 9.2 Actionable Insights\n",
    "\n",
    "- Early detection and fewer lymph node involvements correlate with longer survival.\n",
    "- Patients between 40–60 showed relatively better outcomes.\n",
    "- Clinical focus on lymph node management is crucial for prognosis."
   ]
  }
 ],
 "metadata": {},
 "nbformat": 4,
 "nbformat_minor": 5
}