{
  "cells": [
    {
      "cell_type": "markdown",
      "metadata": {
        "id": "UaQOgo6gUupn"
      },
      "source": [
        "# **EDA_Mental Health Analysis**, **By Amit Kharche**\n",
        "**Follow me** on [Linkedin](https://www.linkedin.com/in/amit-kharche) and [Medium](https://medium.com/@amitkharche14) for more insights on **Data Science** and **AI**"
      ]
    },
    {
      "cell_type": "markdown",
      "metadata": {
        "id": "fyGLcqbs_S8i"
      },
      "source": [
        "---\n",
        "# **Table of Contents**\n",
        "---\n",
        "\n",
        "**1.** [**Introduction**](#Section1)<br>\n",
        "**2.** [**Problem Statement**](#Section2)<br>\n",
        "**3.** [**Installing & Importing Libraries**](#Section3)<br>\n",
        "**4.** [**Data Acquisition & Description**](#Section4)<br>\n",
        "**5.** [**Data Pre-processing**](#Section5)<br>\n",
        "**6.** [**Exploratory Data Analysis**](#Section6)<br>\n",
        "  - **6.1** [**In what ways does age influence individuals' behaviors and their understanding of their employer’s stance on mental health?**](#Section61)\n",
        "  - **6.2** [**What does the age feature's distribution look like in terms of density?**](#Section62)\n",
        "  - **6.3** [**How does the ratio of individuals receiving treatment vary across different genders?**](#Section63)\n",
        "  - **6.4** [**What is the proportional relationship between receiving treatment and experiencing work interference?**](#Section64)\n",
        "  - **6.5** [**How is the likelihood of seeking treatment connected to age?**](#Section65)\n",
        "  - **6.6** [**Is there a link between an employee’s family history of mental health issues and their decision to seek treatment?**](#Section66)\n",
        "  - **6.7** [**How does the number of employees in a company relate to the treatment-seeking behavior?**](#Section67)\n",
        "  - **6.8** [**Which countries are the most prominent contributors to mental health data?**](#Section68)\n",
        "  - **6.9** [**Which U.S. states have the highest representation in mental health-related responses?**](#Section69)\n",
        "  - **6.10** [**Among all countries, which three have the highest contribution to mental health data?**](#Section610)\n",
        "  - **6.11** [**What is the distribution of work interference levels among employees in the top three contributing countries?**](#Section611)\n",
        "  - **6.12** [**How many individuals from the top three countries have reported undergoing treatment?**](#Section612)\n",
        "  - **6.13** [**What is the gender-wise breakdown of individuals seeking treatment in the top three countries?**](#Section613)\n",
        "  - **6.14** [**How are perceived consequences of mental health issues related to general attitudes toward them?**](#Section614)\n",
        "\n",
        "**7.** [**Summarization**](#Section7)<br>"
      ]
    },
    {
      "cell_type": "markdown",
      "metadata": {
        "id": "KeSCPrQkAg-J"
      },
      "source": [
        "---\n",
        "<a name = Section1></a>\n",
        "# **1. Introduction**\n",
        "---\n",
        "\n",
        "- For many of us, **work** is a **major part** of our **lives** where we spend much of our time to **make income** and **friends**.\n",
        "\n",
        "- Having a **fulfilling job** can be **good** for your **mental health** and general wellbeing.\n",
        "\n",
        "<center><img width=30% src=\"https://aihms.in/blog/wp-content/uploads/2020/08/mental1.jpg\"></center>\n",
        "\n",
        "- Mental health is the way we **think** and **feel** and our ability to **deal** with **ups and downs** and it is something we all have.\n",
        "\n",
        "- When we enjoy good mental health, we have a **sense of purpose** and **direction**, the energy to do the things we want to do.\n",
        "\n",
        "- If you enjoy good mental health, you can:\n",
        "  - make the most of your potential\n",
        "\n",
        "  - cope with what life throws at you\n",
        "  \n",
        "  - play a full part in your relationships, your workplace, and your community.\n",
        "\n",
        "- Your **mental health always fluctuates** as circumstances change as you move through different stages in your life.\n",
        "\n",
        "- **Distress** is a word used to describe times when a **person isn’t coping** – for whatever reason.\n",
        "\n",
        "- It could be something at home, the pressure of work, or the start of a mental health problem like depression.\n",
        "\n",
        "- When we feel distressed, we **need a compassionate**, human response."
      ]
    },
    {
      "cell_type": "markdown",
      "metadata": {
        "id": "IrkNMsXHD5xr"
      },
      "source": [
        "---\n",
        "<a name = Section2></a>\n",
        "# **2. Problem Statement**\n",
        "---\n",
        "\n",
        "- We all have times when we feel down, stressed or frightened.\n",
        "\n",
        "- Most of the time those feelings pass, but **sometimes** they develop into a mental health problem like **anxiety** or **depression**.\n",
        "\n",
        "- It **impacts our daily lives** but for some people, mental health problems become complex and **require support** and **treatment** for life.\n",
        "\n",
        "- Factors like poverty, childhood trauma, discrimination, etc. make it more likely that we will develop mental health problems.\n",
        "\n",
        "- Different mental health problems **affect** people **in different ways** and it’s **key** to **understand** an **individual’s experience**.\n",
        "\n",
        "<center><img width=60% src=\"https://www.uni-jena.de/unijenamedia/371096/241111-mhad-2024.avif?height=428&width=760\"></center>\n",
        "\n",
        "\n",
        "**<h4>Scenario</h4>**\n",
        "\n",
        "- <a href=\"https://osmihelp.org/\">**OSMI**</a>, an organization is working to **help people** to **identify** and **overcome mental health disorders** while working in a tech space.\n",
        "\n",
        "- They **perform surveys** to **measure attitudes** towards mental health in the tech workplace.\n",
        "\n",
        "- They **create detailed guides** on how to make the **workplace safe** and **supportive** for mentally stressed people.\n",
        "\n",
        "- Using these surveys they **examine** the **frequency** of **mental health disorders** among tech workers.\n",
        "\n",
        "- Also, they help workspaces to **identify** the **best resources** to **support** their **employees**.\n",
        "\n",
        "- Checkout <a href=\"https://www.youtube.com/watch?v=NHulgcO_16U&list=PL1MEC8mwrpaIdzYKRidvNB5eYSwWrqFZ3\">**Talks at Google**</a> to get better clarity about Mental Health in the Tech Industry.\n"
      ]
    },
    {
      "cell_type": "markdown",
      "metadata": {
        "id": "oZ7oRdaU5Izk"
      },
      "source": [
        "---\n",
        "<a name = Section3></a>\n",
        "# **3. Installing & Importing Libraries**\n",
        "---"
      ]
    },
    {
      "cell_type": "markdown",
      "metadata": {
        "id": "CxrjUfOi5Kor"
      },
      "source": [
        "<a name = Section31></a>\n",
        "### **3.1 Installing Libraries**"
      ]
    },
    {
      "cell_type": "code",
      "execution_count": null,
      "metadata": {
        "id": "G64l-tpL_G6c"
      },
      "outputs": [],
      "source": [
        "!pip install -q datascience            # Package that is required by pandas profiling\n",
        "!pip install -q pandas-profiling       # Library to generate basic statistics about data"
      ]
    },
    {
      "cell_type": "markdown",
      "metadata": {
        "id": "RQ7MRLAo5N1V"
      },
      "source": [
        "<a name = Section32></a>\n",
        "### **3.2 Upgrading Libraries**\n",
        "\n",
        "- **After upgrading** the libraries, you need to **restart the runtime** to make the libraries in sync.\n",
        "\n",
        "- Make sure not to execute the cell above (3.1) and below (3.2) again after restarting the runtime."
      ]
    },
    {
      "cell_type": "code",
      "execution_count": null,
      "metadata": {
        "id": "B-Fik6Ur5Nu7"
      },
      "outputs": [],
      "source": [
        "!pip install -q --upgrade pandas-profiling\n",
        "!pip install -q --upgrade yellowbrick"
      ]
    },
    {
      "cell_type": "markdown",
      "metadata": {
        "id": "4K_1imiv5Rn1"
      },
      "source": [
        "<a name = Section33></a>\n",
        "### **3.3 Importing Libraries**"
      ]
    },
    {
      "cell_type": "code",
      "execution_count": null,
      "metadata": {
        "id": "IpUbSK3u5RgT"
      },
      "outputs": [],
      "source": [
        "#-------------------------------------------------------------------------------------------------------------------------------\n",
        "import pandas as pd # Importing for panel data analysis\n",
        "import numpy as np\n",
        "pd.set_option('display.max_columns', None) # Unfolding hidden features if the cardinality is high\n",
        "pd.set_option('display.max_colwidth', None)# Unfolding the max feature width for better clearity\n",
        "pd.set_option('display.max_rows', None)# Unfolding hidden data points if the cardinality is high\n",
        "pd.set_option('mode.chained_assignment', None)# Removing restriction over chained assignments operations\n",
        "pd.set_option('display.float_format', lambda x: '%.5f' % x)\n",
        "# To suppress scientific notation over exponential values\n",
        "#-------------------------------------------------------------------------------------------------------------------------------\n",
        "from collections import Counter    # For counting hashable objects\n",
        "#-------------------------------------------------------------------------------------------------------------------------------\n",
        "import matplotlib.pyplot as plt   # Importing pyplot interface using matplotlib\n",
        "import plotly.graph_objs as go    # For Plotly interfaced graphs\n",
        "import seaborn as sns             # Importin seaborm library for interactive visualization\n",
        "%matplotlib inline\n",
        "#-------------------------------------------------------------------------------------------------------------------------------\n",
        "import warnings                     # Importing warning to disable runtime warnings\n",
        "warnings.filterwarnings(\"ignore\")   # Warnings will appear only once"
      ]
    },
    {
      "cell_type": "markdown",
      "metadata": {
        "id": "l6GsdyVG5Zdd"
      },
      "source": [
        "---\n",
        "<a name = Section4></a>\n",
        "# **4. Data Acquisition & Description**\n",
        "---\n",
        "\n",
        "- This dataset is obtained from a survey in 2014.\n",
        "\n",
        "- It describes the attitudes towards mental health and frequency of mental health disorders in the tech workplace.\n",
        "\n",
        "| Records | Features | Dataset Size |\n",
        "| :-- | :-- | :-- |\n",
        "| 1259 | 27 | 296 KB|\n",
        "\n",
        "\n",
        "| Id | Features | Description |\n",
        "| :-- | :--| :--|\n",
        "|01|**Timestamp**|Time the survey was submitted.|\n",
        "|02|**Age**|The age of the person.|\n",
        "|03|**Gender**|The gender of the person.|\n",
        "|04|**Country**|The country name where person belongs to.|\n",
        "|05|**state**|The state name where person belongs to.|\n",
        "|06|**self_employed**|Is the person self employed or not.|\n",
        "|07|**family_history**|Does the person's family history had mental illness or not?|\n",
        "|08|**treatment**|Have you sought treatment for a mental health condition?|\n",
        "|09|**work_intefere**|If you have a mental health condition, do you feel that it interferes with your work?|\n",
        "|10|**no_employees**|How many employees does your company or organization have?|\n",
        "|11|**remote_work**|Do you work remotely (outside of an office) at least 50% of the time?|\n",
        "|12|**tech_company**|Is your employer primarily a tech company/organization?|\n",
        "|13|**benifits**|Does your employer provide mental health benefits?|\n",
        "|14|**care_options**|Do you know the options for mental health care your employer provides?|\n",
        "|15|**wellness_program**|Has your employer ever discussed mental health as part of an employee wellness program?|\n",
        "|16|**seek_help**|Does your employer provide resources to learn more about mental health issues and how to seek help?|\n",
        "|17|**anonymity**|Is your anonymity protected if you choose to take advantage of mental health or substance abuse treatment resources?|\n",
        "|18|**leave**|How easy is it for you to take medical leave for a mental health condition?|\n",
        "|19|**mental_health_consequence**|Do you think that discussing a mental health issue with your employer would have negative consequences?|\n",
        "|20|**phy_health_consequence**|Do you think that discussing a physical health issue with your employer would have negative consequences?|\n",
        "|21|**coworkers**|Would you be willing to discuss a mental health issue with your coworkers?|\n",
        "|22|**supervisor**|Would you be willing to discuss a mental health issue with your direct supervisor(s)?|\n",
        "|23|**mental_health_interview**|Would you bring up a mental health issue with a potential employer in an interview?|\n",
        "|24|**phs_health_interivew**|Would you bring up a physical health issue with a potential employer in an interview?|\n",
        "|25|**mental_vs_physical**|Do you feel that your employer takes mental health as seriously as physical health?|\n",
        "|26|**obs_consequence**|Have you heard of or observed negative consequences for coworkers with mental health conditions in your workplace?|\n",
        "|27|**comments**|Any additional notes or comments.|"
      ]
    },
    {
      "cell_type": "code",
      "execution_count": null,
      "metadata": {
        "id": "eU8BRBJZ5ZW0"
      },
      "outputs": [],
      "source": [
        "data = pd.read_csv('https://raw.githubusercontent.com/amitkharche/exploratory_data_analysis_projects_amit_kharche/refs/heads/main/01.EDA_mental_health_analysis_amit_kharche/survey_mental_health.csv')\n",
        "print('Data Shape:', data.shape)\n",
        "data.head()"
      ]
    },
    {
      "cell_type": "markdown",
      "metadata": {
        "id": "IoV6bufp5k7L"
      },
      "source": [
        "<a name = Section41></a>\n",
        "### **4.1 Data Description**\n",
        "\n",
        "- In this section we will get **information about the data** and see some observations."
      ]
    },
    {
      "cell_type": "code",
      "execution_count": null,
      "metadata": {
        "id": "mpjhuz7f5krN"
      },
      "outputs": [],
      "source": [
        "data.describe()"
      ]
    },
    {
      "cell_type": "markdown",
      "metadata": {
        "id": "-iTS8gi3vj51"
      },
      "source": [
        "**Observations:**\n",
        "\n",
        "- The **average age** of the person is found to be **79428148 years** and it is **absurd**.\n",
        "\n",
        "- Around **25%** of people have an **age** less than or equal to **27 years**.\n",
        "\n",
        "- Around **50%** of people have an **age** less than or equal to **31 years**.\n",
        "\n",
        "- Around **75%** of people have an **age** less than or equal to **36 years**.\n",
        "\n",
        "- The **minimum** and **maximum ages** are found to be **negative** and **very large numbers**.\n",
        "\n",
        "- It implies that there is **something wrong** with our **data**."
      ]
    },
    {
      "cell_type": "markdown",
      "metadata": {
        "id": "biqeRhFM5qSW"
      },
      "source": [
        "<a name = Section42></a>\n",
        "### **4.2 Data Information**\n",
        "\n",
        "- In this section we will see the **information about the types of features**."
      ]
    },
    {
      "cell_type": "code",
      "execution_count": null,
      "metadata": {
        "id": "su2WUoi95kku"
      },
      "outputs": [],
      "source": [
        "data.info(verbose=True, memory_usage='deep')"
      ]
    },
    {
      "cell_type": "markdown",
      "metadata": {
        "id": "lfuJ00mWwkHq"
      },
      "source": [
        "**Observations:**\n",
        "\n",
        "- At high level, we can observe that there are **missing data** in our dataset.\n",
        "\n",
        "- The **timestamp** is found to have **inconsistent data type**, requires rectification."
      ]
    },
    {
      "cell_type": "markdown",
      "metadata": {
        "id": "s25rWFCO5vmb"
      },
      "source": [
        "<a name = Section5></a>\n",
        "\n",
        "---\n",
        "# **5. Data Pre-Processing**\n",
        "---"
      ]
    },
    {
      "cell_type": "markdown",
      "metadata": {
        "id": "bOPDAA_Ny33-"
      },
      "source": [
        "<a name = Section51></a>\n",
        "### **5.1 Handling of Missing Data**\n",
        "\n",
        "- In this section, we will identify missing data and check the proportion of it and take appropriate measures."
      ]
    },
    {
      "cell_type": "code",
      "execution_count": null,
      "metadata": {
        "id": "zzMraRtByCst"
      },
      "outputs": [],
      "source": [
        "null_frame = pd.DataFrame(index = data.columns.values)\n",
        "null_frame['Null Frequency'] = data.isnull().sum().values\n",
        "percent = data.isnull().sum().values/data.shape[0]\n",
        "null_frame['Missing %age'] = np.round(percent, decimals = 4) * 100\n",
        "null_frame.transpose()"
      ]
    },
    {
      "cell_type": "markdown",
      "metadata": {
        "id": "WeBpq1fW0hml"
      },
      "source": [
        "**Observations:**\n",
        "\n",
        "- We can observe that following features are found to have missing values along with the proportions:\n",
        "\n",
        "|Feature|Object Type|Missing Proportion|Solution|\n",
        "|:--:|:--:|:--:|:--|\n",
        "|state|Object|40%|Replace with mode.|\n",
        "|self_employed|Object|1.43%|Replace with mode.|\n",
        "|work_interfere|Object|20.97%|Replace with mode.|\n",
        "|comments|Object|86.97%|Drop the feature.|"
      ]
    },
    {
      "cell_type": "markdown",
      "metadata": {
        "id": "pYaswQWO3IZD"
      },
      "source": [
        "**Performing Operations**"
      ]
    },
    {
      "cell_type": "code",
      "execution_count": null,
      "metadata": {
        "id": "KblDluhG08bd"
      },
      "outputs": [],
      "source": [
        "data['state'] = data['state'].replace(np.nan, data['state'].mode()[0])\n",
        "data['self_employed'] = data['self_employed'].replace(np.nan, data['self_employed'].mode()[0])\n",
        "data['work_interfere'] = data['work_interfere'].replace(np.nan, data['work_interfere'].mode()[0])\n",
        "data.drop(labels='comments', axis=1, inplace=True)"
      ]
    },
    {
      "cell_type": "markdown",
      "metadata": {
        "id": "-vFDK0RP81qr"
      },
      "source": [
        "- Let's verify the integrity of null values again."
      ]
    },
    {
      "cell_type": "code",
      "execution_count": null,
      "metadata": {
        "id": "aIgSp5KP8cp8"
      },
      "outputs": [],
      "source": [
        "null_frame = pd.DataFrame(index = data.columns.values)\n",
        "null_frame['Null Frequency'] = data.isnull().sum().values\n",
        "percent = data.isnull().sum().values/data.shape[0]\n",
        "null_frame['Missing %age'] = np.round(percent, decimals = 4) * 100\n",
        "null_frame.transpose()"
      ]
    },
    {
      "cell_type": "markdown",
      "metadata": {
        "id": "WZ0k26PP-tEc"
      },
      "source": [
        "<a name = Section52></a>\n",
        "### **5.2 Handling of Redundant Data**\n",
        "\n",
        "- In this section, we will identify redundant data and check the proportion of it and take appropriate measures."
      ]
    },
    {
      "cell_type": "code",
      "execution_count": null,
      "metadata": {
        "id": "uvmzY99o-pAI"
      },
      "outputs": [],
      "source": [
        "print('Contains Duplicate Rows?', data.duplicated().any())"
      ]
    },
    {
      "cell_type": "markdown",
      "metadata": {
        "id": "F-Xk463w-yw2"
      },
      "source": [
        "<a name = Section53></a>\n",
        "### **5.3 Handling of Inconsistent Data**\n",
        "\n",
        "- In this section, we will **identify inconsistency** in data and and then **take appropriate measures**.\n",
        "\n",
        "- Previously, we observed that **Timestamp** feature was **incorrectly indentified** as Object, so, we will rectify it.\n",
        "\n",
        "- Additionally, we can observe that some features are having data of different format such as Gender."
      ]
    },
    {
      "cell_type": "code",
      "execution_count": null,
      "metadata": {
        "id": "5yJz_bFO-ypH"
      },
      "outputs": [],
      "source": [
        "data['Timestamp'].unique()"
      ]
    },
    {
      "cell_type": "code",
      "execution_count": null,
      "metadata": {
        "id": "HfocKDE9-o9I"
      },
      "outputs": [],
      "source": [
        "# Transforming Timestamp's object type to datetime\n",
        "data['Timestamp'] = pd.to_datetime(data['Timestamp'])"
      ]
    },
    {
      "cell_type": "code",
      "execution_count": null,
      "metadata": {
        "id": "GbJ5FpHQ-o3j"
      },
      "outputs": [],
      "source": [
        "# Learn more about the variable Gender, which appears not to be standardized with 49 distinct responses.\n",
        "print(\"Distinct responses for Gender (Frequency):\", len(set(data['Gender'])))\n",
        "print(\"Distinct responses for Gender:\", set(data['Gender']))"
      ]
    },
    {
      "cell_type": "code",
      "execution_count": null,
      "metadata": {
        "id": "TbEYxUXPDZrM"
      },
      "outputs": [],
      "source": [
        "data['Gender'].str.lower().unique()"
      ]
    },
    {
      "cell_type": "code",
      "execution_count": null,
      "metadata": {
        "id": "mnBbFFopB70y"
      },
      "outputs": [],
      "source": [
        "unique_gender = data['Gender'].str.lower().unique()\n",
        "\n",
        "# Stratas of Gender category\n",
        "male_str = [\"male\", \"m\", \"male-ish\", \"maile\", \"mal\", \"male (cis)\", \"make\",\n",
        "            \"male \", \"man\",\"msle\", \"mail\", \"malr\",\"cis man\", \"Cis Male\",\n",
        "            \"cis male\"]\n",
        "trans_str = [\"trans-female\", \"something kinda male?\", \"queer/she/they\",\n",
        "             \"non-binary\",\"nah\", \"all\", \"enby\", \"fluid\", \"genderqueer\",\n",
        "             \"androgyne\", \"agender\", \"male leaning androgynous\", \"guy (-ish) ^_^\",\n",
        "             \"trans woman\", \"neuter\", \"female (trans)\", \"queer\",\n",
        "             \"ostensibly male, unsure what that really means\"]\n",
        "female_str = [\"cis female\", \"f\", \"female\", \"woman\",  \"femake\", \"female \",\n",
        "              \"cis-female/femme\", \"female (cis)\", \"femail\"]\n",
        "\n",
        "# Iterate over rows and replace the inconsistent data with right data\n",
        "for (row, col) in data.iterrows():\n",
        "  if str.lower(col['Gender']) in male_str:\n",
        "    data['Gender'].replace(to_replace=col['Gender'], value='male', inplace=True)\n",
        "  if str.lower(col['Gender']) in female_str:\n",
        "    data['Gender'].replace(to_replace=col['Gender'], value='female', inplace=True)\n",
        "  if str.lower(col['Gender']) in trans_str:\n",
        "    data['Gender'].replace(to_replace=col['Gender'], value='trans', inplace=True)\n",
        "\n",
        "# Remove rest of the unnecessary text\n",
        "stk_list = ['A little about you', 'p']\n",
        "data = data[~data['Gender'].isin(stk_list)]\n",
        "\n",
        "# Display the unique value of Gender feature\n",
        "print(data['Gender'].unique())"
      ]
    },
    {
      "cell_type": "markdown",
      "metadata": {
        "id": "SgCBF7_MOEUl"
      },
      "source": [
        "**Observation:**\n",
        "\n",
        "- Now, we **handled inconsistency** of data **manually** for **one feature**, but it would be **impossible** when you have **hundreds of features**.\n",
        "\n",
        "- In that case, we can **use interactive plots** like plotly to know all the possible values in each feature.\n",
        "\n",
        "- Next, we will **identify** all the categorical features and render a bar plot to identify the **present values**.\n",
        "\n",
        "- If we find any inconsistency in the feature, then we will take appropriate measures.\n",
        "\n",
        "**Note:**\n",
        "\n",
        "- The **approach followed down** for basic data analysis is **not mandatory**.\n",
        "\n",
        "- You can **also go feature by feature** and analyze the data to understand the underlying face of data.\n",
        "\n",
        "- To **make our life easier**, we will be **utilizing a small hack**.\n"
      ]
    },
    {
      "cell_type": "code",
      "execution_count": null,
      "metadata": {
        "id": "mIeg4aA-Fl_M"
      },
      "outputs": [],
      "source": [
        "# Initializing empty list\n",
        "cat_features = []\n",
        "\n",
        "# Appending all  the categorical features to empty list\n",
        "for i in data.columns:\n",
        "  if data[i].dtype == 'object':\n",
        "    cat_features.append(i)\n",
        "\n",
        "# Display the categorical features\n",
        "print(cat_features)"
      ]
    },
    {
      "cell_type": "code",
      "execution_count": null,
      "metadata": {
        "id": "OmsO3arbFl70"
      },
      "outputs": [],
      "source": [
        "# Initiating a plotly figure\n",
        "fig = go.Figure()\n",
        "\n",
        "# Adding first graph of Gender\n",
        "fig.add_bar(x=data[cat_features[0]], y=data[cat_features[0]].index)\n",
        "\n",
        "# Adding a button to select different features\n",
        "button = [dict(method = 'restyle',\n",
        "               args = [{'x': [data[cat_features[k]], 'undefined'],\n",
        "                        'y': [data[cat_features[k]].index, 'undefined'],\n",
        "                        'visible':[True, False]}],\n",
        "               label = cat_features[k])   for k in range(0, len(cat_features))]\n",
        "\n",
        "# Updating the layout of the graph\n",
        "fig.update_layout(title_text='Frequency Distribution of Feature Values',\n",
        "                  title_x=0.4,\n",
        "                  width=1000,\n",
        "                  height=450,\n",
        "                  updatemenus=[dict(active=0,\n",
        "                                    buttons=button,\n",
        "                                    x=1.15,\n",
        "                                    y=1,\n",
        "                                    xanchor='left',\n",
        "                                    yanchor='top')])\n",
        "\n",
        "# Adding extra annotaions alongside the button\n",
        "fig.add_annotation(x=1.03,\n",
        "                   y=0.97,\n",
        "                   xref='paper',\n",
        "                   yref='paper',\n",
        "                   showarrow=False,\n",
        "                   xanchor='left',\n",
        "                   yanchor = 'top',\n",
        "                   text='Feature')\n",
        "\n",
        "# Display the graph\n",
        "fig.show()"
      ]
    },
    {
      "cell_type": "markdown",
      "metadata": {
        "id": "feLKV9y_O80f"
      },
      "source": [
        "**Observations:**\n",
        "\n",
        "- By interacting with the above figure we can safely conclude that rest all **other features** are **having correct values**."
      ]
    },
    {
      "cell_type": "markdown",
      "metadata": {
        "id": "OnJrjoHuLZDT"
      },
      "source": [
        "<a name = Section54></a>\n",
        "### **5.4 Handling of Outliers**\n",
        "\n",
        "- Next, if you remember our **age** feature was showing us some **absurd numbers** like 329, 999999999999, -1729.\n",
        "\n",
        "- These are **outliers** and we will **perform capping** over these values such as:\n",
        "  - All value above 75 will be capped to 75 (on **average 65** is the **retirement** but taking extra buffer).\n",
        "  - All value below 14 will be capped to 14 (on **average 14** is the **minimum age** for **employment**).\n",
        "\n",
        "- As a general rule, the FLSA sets 14 years old as the minimum age for employment under limited number of hours."
      ]
    },
    {
      "cell_type": "code",
      "execution_count": null,
      "metadata": {
        "id": "onHQpXuHYLzC"
      },
      "outputs": [],
      "source": [
        "data['Age'][data['Age'] > 75] = 75\n",
        "data['Age'][data['Age'] < 14] = 14"
      ]
    },
    {
      "cell_type": "code",
      "execution_count": null,
      "metadata": {
        "id": "Y4U6mGidY1Yj"
      },
      "outputs": [],
      "source": [
        "data['Age'].describe()"
      ]
    },
    {
      "cell_type": "markdown",
      "metadata": {
        "id": "i41Ox8TibpbR"
      },
      "source": [
        "**Observation:**\n",
        "\n",
        "- Now that we have successfully cleansed our data we are good to go with exploring our data and finding insights."
      ]
    },
    {
      "cell_type": "markdown",
      "metadata": {
        "id": "H1dTrDuMbZxi"
      },
      "source": [
        "<a name = Section6></a>\n",
        "\n",
        "---\n",
        "# **6. Exploratory Data Analysis**\n",
        "---"
      ]
    },
    {
      "cell_type": "code",
      "execution_count": null,
      "metadata": {
        "id": "NU9V8MmKtqfh"
      },
      "outputs": [],
      "source": [
        "data.head()"
      ]
    },
    {
      "cell_type": "markdown",
      "metadata": {
        "id": "ttRE-dxIsk4i"
      },
      "source": [
        "<a name = Section61></a>\n",
        "**<h4>Question:**  In what ways does age influence individuals' behaviors and their understanding of their employer’s stance on mental health?</h4>"
      ]
    },
    {
      "cell_type": "code",
      "execution_count": null,
      "metadata": {
        "id": "MoNN4BbHZHco"
      },
      "outputs": [],
      "source": [
        "import matplotlib.pyplot as plt\n",
        "import seaborn as sns\n",
        "\n",
        "# Initialize figure of size 15 X 7\n",
        "fig = plt.figure(figsize=(15, 7))\n",
        "\n",
        "# Plot countplot of age concerning treatment\n",
        "sns.countplot(x='Age', hue='treatment', data=data)\n",
        "\n",
        "# Add some cosmetics\n",
        "plt.title(label='Age vs Treatment', size=16)\n",
        "plt.xlabel(xlabel='Age', size=14)\n",
        "plt.ylabel(ylabel='Frequency', size=14)\n",
        "plt.xticks(size=12)\n",
        "plt.yticks(size=12)\n",
        "plt.grid(True)  # This is the correct way to enable grid\n",
        "\n",
        "# Display the plot\n",
        "plt.show()\n"
      ]
    },
    {
      "cell_type": "markdown",
      "metadata": {
        "id": "okOQ_LhVxIRJ"
      },
      "source": [
        "**Observation:**\n",
        "\n",
        "- We can observe that people of **age 14 - age 22** are **mildly conscious** while people of **age 23 - age 37** are **less conscious** for **treatment**.\n",
        "\n",
        "- People of **age 38 and above** are **highly conscious** and are **up for treatment**."
      ]
    },
    {
      "cell_type": "markdown",
      "metadata": {
        "id": "Txgi1u48ysnL"
      },
      "source": [
        "<a name = Section62></a>\n",
        "**<h4>Question:** What does the age feature's distribution look like in terms of density?</h4>"
      ]
    },
    {
      "cell_type": "code",
      "execution_count": null,
      "metadata": {
        "id": "BEowhLv4ysaX"
      },
      "outputs": [],
      "source": [
        "import matplotlib.pyplot as plt\n",
        "import seaborn as sns\n",
        "\n",
        "# Initialize figure of size 15 x 7\n",
        "plt.figure(figsize=(15, 7))\n",
        "\n",
        "# Plot density distribution of age using histplot with KDE\n",
        "sns.histplot(data['Age'], kde=True, bins=30, color='skyblue')\n",
        "\n",
        "\n",
        "# Add cosmetics\n",
        "plt.title('Density Distribution of Age', fontsize=16)\n",
        "plt.xlabel('Age', fontsize=14)\n",
        "plt.ylabel('Density', fontsize=14)\n",
        "plt.xticks(fontsize=12)\n",
        "plt.yticks(fontsize=12)\n",
        "plt.grid(True)\n",
        "\n",
        "# Display the plot\n",
        "plt.show()"
      ]
    },
    {
      "cell_type": "markdown",
      "metadata": {
        "id": "2tcBcEx3zQTN"
      },
      "source": [
        "**Observation:**\n",
        "\n",
        "- We can **observe a peak** between **mid-20s to about mid-30s**.\n",
        "\n",
        "- This implies that **majority of people** are from **mid 20s to mid 30s**."
      ]
    },
    {
      "cell_type": "markdown",
      "metadata": {
        "id": "-Ihz0LT31OTT"
      },
      "source": [
        "<a name = Section63></a>\n",
        "**<h4>Question:** How does the ratio of individuals receiving treatment vary across different genders?</h4>"
      ]
    },
    {
      "cell_type": "code",
      "execution_count": null,
      "metadata": {
        "id": "cUF87rxoEa3u"
      },
      "outputs": [],
      "source": [
        "# Instantiate figure and axes object\n",
        "f, ax = plt.subplots(nrows=1, ncols=3, figsize=(20, 8))\n",
        "\n",
        "# Initiate a list of gender values and index\n",
        "gender = list(data['Gender'].unique())\n",
        "custom_index = [0, 1, 2]\n",
        "\n",
        "# Plot donut chart for each gender concerning treatment\n",
        "for i, j in zip(gender, custom_index):\n",
        "  data['treatment'][data['Gender']==i].value_counts() \\\n",
        "                                         .plot \\\n",
        "                                         .pie(explode=[0, 0.2],\n",
        "                                              autopct='%1.1f%%',\n",
        "                                              wedgeprops=dict(width=0.15),\n",
        "                                              ax=ax[j], shadow=True)\n",
        "  # Add some cosmetics\n",
        "  ax[j].set_title(label= i.capitalize() +' Treatment', size=16)\n",
        "  ax[j].set_ylabel(ylabel='Treatment', size=14)\n",
        "\n",
        "\n",
        "# Display the graph\n",
        "plt.show()"
      ]
    },
    {
      "cell_type": "markdown",
      "metadata": {
        "id": "ZTH8ZDwx3ZcQ"
      },
      "source": [
        "**Observation:**\n",
        "\n",
        "- We can observe that **female** and **trans** are **more affected** than males in terms of ratio."
      ]
    },
    {
      "cell_type": "markdown",
      "metadata": {
        "id": "gchmnZlg2P7A"
      },
      "source": [
        "<a name = Section64></a>\n",
        "**<h4>Question:** What is the proportional relationship between receiving treatment and experiencing work interference?</h4>"
      ]
    },
    {
      "cell_type": "code",
      "execution_count": null,
      "metadata": {
        "id": "j1YM1y9mHpyj"
      },
      "outputs": [],
      "source": [
        "# Instantiate figure and axes object\n",
        "f, ax = plt.subplots(nrows=1, ncols=4, figsize=(20, 8))\n",
        "\n",
        "# Initiate a list of gender values and index\n",
        "work_intefere = list(data['work_interfere'].unique())\n",
        "custom_index = [0, 1, 2, 3]\n",
        "\n",
        "# Plot donut chart for each work inteference concerning treatment\n",
        "for i, j in zip(work_intefere, custom_index):\n",
        "  data['treatment'][data['work_interfere']==i].value_counts() \\\n",
        "                                              .plot \\\n",
        "                                              .pie(explode=[0, 0.2],\n",
        "                                                   autopct='%1.1f%%',\n",
        "                                                   wedgeprops=dict(width=0.15),\n",
        "                                                   ax=ax[j], shadow=True)\n",
        "  # Add some cosmetics\n",
        "  ax[j].set_title(label='Work Interference - '+i, size=16)\n",
        "  ax[j].set_ylabel(ylabel='Treatment', size=14)\n",
        "\n",
        "\n",
        "# Display the graph\n",
        "plt.show()"
      ]
    },
    {
      "cell_type": "markdown",
      "metadata": {
        "id": "f_1B5pSU3LU9"
      },
      "source": [
        "**Observation:**\n",
        "\n",
        "- We can observe that **employees** who are \"**Often**\" and \"**Rarely**\" interferred during their work are **more likely** to **have mental health issues**.\n",
        "\n",
        "- Thus, they tend to go for treatment."
      ]
    },
    {
      "cell_type": "markdown",
      "metadata": {
        "id": "zKKY33dk390c"
      },
      "source": [
        "<a name = Section65></a>\n",
        "**<h4>Question:** How is the likelihood of seeking treatment connected to age?</h4>"
      ]
    },
    {
      "cell_type": "code",
      "execution_count": null,
      "metadata": {
        "id": "Jc6Mwkxh39pX"
      },
      "outputs": [],
      "source": [
        "import matplotlib.pyplot as plt\n",
        "import seaborn as sns\n",
        "\n",
        "# Initiate an empty figure of 15 x 7\n",
        "plt.figure(figsize=(15, 7))\n",
        "\n",
        "# Plot the violinplot for treatment vs age\n",
        "sns.violinplot(x=\"treatment\", y=\"Age\", palette=\"gnuplot\", data=data)\n",
        "\n",
        "# Add cosmetics\n",
        "plt.title('Age vs Treatment', fontsize=16)\n",
        "plt.xlabel(\"Treatment\", fontsize=14)\n",
        "plt.ylabel(\"Age\", fontsize=14)\n",
        "plt.xticks(fontsize=12)\n",
        "plt.yticks(fontsize=12)\n",
        "plt.grid(True)\n",
        "\n",
        "# Display the figure\n",
        "plt.show()\n"
      ]
    },
    {
      "cell_type": "markdown",
      "metadata": {
        "id": "IXxCNokE5UYh"
      },
      "source": [
        "**Observation:**\n",
        "\n",
        "- Although, we can't make a big observation out of the above plot because the distinction is almost the same.\n",
        "\n",
        "- But we can see that as the **age increases** **chances** to **seek** **treatment** also **increases**."
      ]
    },
    {
      "cell_type": "markdown",
      "metadata": {
        "id": "mnF9uPP85_ML"
      },
      "source": [
        "<a name = Section66></a>\n",
        "**<h4>Question:** Is there a link between an employee’s family history of mental health issues and their decision to seek treatment?</h4>"
      ]
    },
    {
      "cell_type": "code",
      "execution_count": null,
      "metadata": {
        "id": "eYaPB9pF4wpx"
      },
      "outputs": [],
      "source": [
        "import matplotlib.pyplot as plt\n",
        "import seaborn as sns\n",
        "\n",
        "# Initiate an empty figure of 15 x 7\n",
        "plt.figure(figsize=(15, 7))\n",
        "\n",
        "# Plot the countplot\n",
        "sns.countplot(x='family_history', hue='treatment', data=data)\n",
        "\n",
        "# Add cosmetics\n",
        "plt.title('Does family history affect mental health?', fontsize=16)\n",
        "plt.xlabel('Do they have a family mental health problem?', fontsize=14)\n",
        "plt.ylabel('Frequency', fontsize=14)\n",
        "plt.xticks(fontsize=12)\n",
        "plt.yticks(fontsize=12)\n",
        "plt.grid(True)\n",
        "\n",
        "# Display the figure\n",
        "plt.show()"
      ]
    },
    {
      "cell_type": "markdown",
      "metadata": {
        "id": "xOL03w-i9aH4"
      },
      "source": [
        "**Observation:**\n",
        "\n",
        "- We can observe that **employees** who have **family history** are very much **likely** to **go for treatment**."
      ]
    },
    {
      "cell_type": "markdown",
      "metadata": {
        "id": "R17ZgxmO94lM"
      },
      "source": [
        "<a name = Section67></a>\n",
        "**<h4>Question:** How does the number of employees in a company relate to the treatment-seeking behavior?</h4>"
      ]
    },
    {
      "cell_type": "code",
      "execution_count": null,
      "metadata": {
        "id": "isB8v38y9Z_h"
      },
      "outputs": [],
      "source": [
        "# Initiate an empty figure\n",
        "figure = plt.figure(figsize=(15, 7))\n",
        "\n",
        "# Plot the countplot figure\n",
        "sns.countplot(x='no_employees', hue='treatment', data=data)\n",
        "\n",
        "# Add some cosmetics\n",
        "plt.title(\"Employee count vs Treatment\", size=16)\n",
        "plt.xlabel(\"Company Size\", size=14)\n",
        "plt.ylabel(\"Treatment\", size=14)\n",
        "plt.xticks(size=12)\n",
        "plt.yticks(size=12)\n",
        "plt.grid(True)\n",
        "\n",
        "# Output the figure\n",
        "plt.show()"
      ]
    },
    {
      "cell_type": "markdown",
      "metadata": {
        "id": "AfG956R9-fs6"
      },
      "source": [
        "**Observation:**\n",
        "\n",
        "- The **maximum** number of **people** **gone for treatment** belongs to the **company size 26-100**.\n",
        "\n",
        "- On the other hand, those who **haven't gone** for treatment belongs to **company size 6-25**."
      ]
    },
    {
      "cell_type": "code",
      "execution_count": null,
      "metadata": {
        "id": "KwXN3x0YBbk3"
      },
      "outputs": [],
      "source": [
        "data.groupby(by=['treatment', 'Gender'])['no_employees'].agg('count')"
      ]
    },
    {
      "cell_type": "code",
      "execution_count": null,
      "metadata": {
        "id": "_EK2xIr2-gB6"
      },
      "outputs": [],
      "source": [
        "group_names=['Treatment', 'No Treatment']\n",
        "group_size=[637, 622]\n",
        "\n",
        "subgroup_names=['Treatment.Male', 'Treatment.Female', 'Treatment.trans',\n",
        "                'No Treatment.Male','No Treatment.Female','No Treatment.trans']\n",
        "\n",
        "subgroup_size = [450, 170, 15, 541, 77, 4]\n",
        "\n",
        "# Initiating a color palette\n",
        "a, b, c = [plt.cm.Blues, plt.cm.Reds, plt.cm.Greens]\n",
        "\n",
        "# Initiate a figure and axes instance\n",
        "fig, ax = plt.subplots(figsize=(12, 7))\n",
        "ax.axis('equal')\n",
        "\n",
        "# Plot the outer ring\n",
        "mypie, _ = ax.pie(group_size, radius=1.3, labels=group_names,\n",
        "                  colors=['yellowgreen', 'gold'])\n",
        "plt.setp(obj=mypie, width=0.3, edgecolor='white')\n",
        "\n",
        "# Plot the inner ring\n",
        "mypie2, _ = ax.pie(subgroup_size, radius=1.3-0.3, labels=subgroup_names,\n",
        "                   labeldistance=0.7, colors=[a(0.5), b(0.4), c(0.5),\n",
        "                                              a(0.5), b(0.4), c(0.5)])\n",
        "plt.setp(obj=mypie2, width=0.4, edgecolor='white')\n",
        "\n",
        "plt.title('Donut plot')\n",
        "\n",
        "# Output the graph\n",
        "plt.show()"
      ]
    },
    {
      "cell_type": "markdown",
      "metadata": {
        "id": "-x6R9pxYkXpt"
      },
      "source": [
        "<a name = Section68></a>\n",
        "**<h4>Question:** Which countries are the most prominent contributors to mental health data?</h4>"
      ]
    },
    {
      "cell_type": "code",
      "execution_count": null,
      "metadata": {
        "id": "xI3lZdmm-f7z"
      },
      "outputs": [],
      "source": [
        "# Get top 10 common countries name and frequency\n",
        "country_count = Counter(data['Country'].dropna().tolist()).most_common(10)\n",
        "country_idx = [country[0] for country in country_count]\n",
        "country_val = [country[1] for country in country_count]\n",
        "\n",
        "# Initiate an empty figure\n",
        "fig = plt.figure(figsize=[15, 7])\n",
        "\n",
        "# Plot the barplot figure\n",
        "sns.barplot(x=country_val, y=country_idx)\n",
        "\n",
        "# Add some cosmetics\n",
        "plt.title(label='Top 10 Countries Contributed Most in Mental Health', size=16)\n",
        "plt.xlabel(xlabel='Frequency', size=14)\n",
        "plt.ylabel(ylabel='Country', size=14)\n",
        "plt.xticks(size=12)\n",
        "plt.yticks(size=12)\n",
        "plt.grid(True)\n",
        "\n",
        "# Output the figure\n",
        "plt.show()"
      ]
    },
    {
      "cell_type": "markdown",
      "metadata": {
        "id": "9N19_nzEmVOx"
      },
      "source": [
        "**Observation:**\n",
        "\n",
        "- We can observe that **US contributed the most** with **751 respondents** and now further exploring the states of US."
      ]
    },
    {
      "cell_type": "markdown",
      "metadata": {
        "id": "0424HJBjmfDV"
      },
      "source": [
        "<a name = Section69></a>\n",
        "**<h4>Question:** Which U.S. states have the highest representation in mental health-related responses?</h4>"
      ]
    },
    {
      "cell_type": "code",
      "execution_count": null,
      "metadata": {
        "id": "vgt0drdJ-f4H"
      },
      "outputs": [],
      "source": [
        "# Extract states data of US\n",
        "usa_data = data[data['Country']=='United States']\n",
        "frequency = usa_data['state'].value_counts()[0:10].values\n",
        "labels = usa_data['state'].value_counts()[0:10].index\n",
        "\n",
        "# Initiate an empty figure\n",
        "fig = plt.figure(figsize=[15, 7])\n",
        "\n",
        "# Plot the barplot figure\n",
        "sns.barplot(x=frequency, y=labels)\n",
        "\n",
        "# Add some cosmetics\n",
        "plt.title(label='Top 10 States in US Contributed Most in Mental Health', size=16)\n",
        "plt.xlabel(xlabel='Frequency', size=14)\n",
        "plt.ylabel(ylabel='State', size=14)\n",
        "plt.xticks(size=12)\n",
        "plt.yticks(size=12)\n",
        "plt.grid(True)\n",
        "\n",
        "# Output the figure\n",
        "plt.show()"
      ]
    },
    {
      "cell_type": "markdown",
      "metadata": {
        "id": "iGk9Z56Ynx5Y"
      },
      "source": [
        "**Observation:**\n",
        "\n",
        "- **CALIFORNIA** is the state that **contributed** the **most** in the survey with 138 respndents."
      ]
    },
    {
      "cell_type": "markdown",
      "metadata": {
        "id": "oPwWwG8Xn4D-"
      },
      "source": [
        "<a name = Section610></a>\n",
        "**<h4>Question:** Among all countries, which three have the highest contribution to mental health data?</h4>"
      ]
    },
    {
      "cell_type": "code",
      "execution_count": null,
      "metadata": {
        "id": "-tj2kMT4n37e"
      },
      "outputs": [],
      "source": [
        "# Create a new dataframe based on top 3 countries\n",
        "countries = pd.concat([data.loc[data['Country']=='Canada'],\n",
        "                       data.loc[data['Country']=='United States'],\n",
        "                       data.loc[data['Country']=='United Kingdom']]).reset_index(drop=True)\n",
        "\n",
        "# Display the results\n",
        "print('There number of people that exist from top 3 countries are: ', countries.shape[0])\n",
        "print('Their proportion from total people surveyed is ',\n",
        "      np.round(countries.shape[0]/data.shape[0], decimals=2))"
      ]
    },
    {
      "cell_type": "markdown",
      "metadata": {
        "id": "_RgUmzXRpnnI"
      },
      "source": [
        "<a name = Section611></a>\n",
        "**<h4>Question:** What is the distribution of work interference levels among employees in the top three contributing countries?</h4>"
      ]
    },
    {
      "cell_type": "code",
      "execution_count": null,
      "metadata": {
        "id": "LMwr5Is2n33u"
      },
      "outputs": [],
      "source": [
        "# Initiate an empty figure\n",
        "fig = plt.figure(figsize=[15, 7])\n",
        "\n",
        "# Plot the countplot figure of top 3 countries\n",
        "sns.countplot(x='work_interfere', data=countries)\n",
        "\n",
        "# Add some cosmetics\n",
        "plt.title(label='Frequency Distribution of Work Interference Among Employees for Top 3 Countries', size=16)\n",
        "plt.xlabel(xlabel='Work Interference', size=14)\n",
        "plt.ylabel(ylabel='Frequency', size=14)\n",
        "plt.xticks(size=12)\n",
        "plt.yticks(size=12)\n",
        "plt.grid(True)\n",
        "\n",
        "# Output the figure\n",
        "plt.show()"
      ]
    },
    {
      "cell_type": "code",
      "execution_count": null,
      "metadata": {
        "id": "GQiibS2vn30v"
      },
      "outputs": [],
      "source": [
        "work_sum = countries['work_interfere'].value_counts().reset_index()\n",
        "work_sum.columns = ['interference', 'count']  # Rename columns for clarity\n",
        "\n",
        "# Convert counts to integers just in case\n",
        "work_sum['count'] = work_sum['count'].astype(int)\n",
        "\n",
        "# Extract counts based on their labels\n",
        "more_than_never = work_sum.loc[work_sum['interference'].isin(['Rarely', 'Sometimes', 'Often']), 'count'].sum()\n",
        "\n",
        "often_count = work_sum.loc[work_sum['interference'] == 'Often', 'count'].values[0]\n",
        "\n",
        "print('{:.1%}, believe that their mental health condition interferes with their work'.format(\n",
        "    more_than_never / countries.shape[0]))\n",
        "\n",
        "print('With {} ({:.1%}) people saying it interferes often'.format(\n",
        "    often_count, often_count / countries.shape[0]))\n",
        "\n"
      ]
    },
    {
      "cell_type": "markdown",
      "metadata": {
        "id": "l_Tg2fJKsBVD"
      },
      "source": [
        "<a name = Section612></a>\n",
        "**<h4>Question:** How many individuals from the top three countries have reported undergoing treatment?</h4>"
      ]
    },
    {
      "cell_type": "code",
      "execution_count": null,
      "metadata": {
        "id": "VuV8eLs_n3s7"
      },
      "outputs": [],
      "source": [
        "treatment_count = countries['treatment'].value_counts().reset_index()\n",
        "# Rename columns for clarity\n",
        "treatment_count.columns = ['treatment', 'count']\n",
        "\n",
        "print('Luckily {} ({:.1%}) have sought treatment for their mental health issues'.format(\n",
        "    treatment_count['count'][0], treatment_count['count'][0]/countries.shape[0]))"
      ]
    },
    {
      "cell_type": "markdown",
      "metadata": {
        "id": "cbbccTETselt"
      },
      "source": [
        "<a name = Section613></a>\n",
        "**<h4>Question:** What is the gender-wise breakdown of individuals seeking treatment in the top three countries?</h4>"
      ]
    },
    {
      "cell_type": "code",
      "execution_count": null,
      "metadata": {
        "id": "6C1WyV6Fsec1"
      },
      "outputs": [],
      "source": [
        "male = countries.loc[countries['Gender'] == 'male']\n",
        "male_treatment = male.loc[male['treatment'] == 'Yes'].reset_index(drop=True)\n",
        "\n",
        "female = countries.loc[countries['Gender'] == 'female']\n",
        "female_treatment = female.loc[female['treatment'] == 'Yes'].reset_index(drop=True)\n",
        "\n",
        "trans = countries.loc[countries['Gender'] == 'trans']\n",
        "trans_treatment = trans.loc[trans['treatment'] == 'Yes'].reset_index(drop=True)\n",
        "\n",
        "print('Out of {} males surveyed, {} ({:.1%}) sought treatment'\n",
        "      .format(male.shape[0],\n",
        "              male_treatment.shape[0],\n",
        "              male_treatment.shape[0]/male.shape[0]))\n",
        "print('Out of {} females surveyed, {} ({:.1%}) sought treatment'\n",
        "      .format(female.shape[0],\n",
        "              female_treatment.shape[0],\n",
        "              female_treatment.shape[0]/female.shape[0]))\n",
        "print('Out of {} people who identify as anything other than male or female surveyed, {} ({:.1%}) sought treatment'\n",
        "      .format(trans.shape[0],\n",
        "              trans_treatment.shape[0],\n",
        "              trans_treatment.shape[0]/trans.shape[0]))\n"
      ]
    },
    {
      "cell_type": "markdown",
      "metadata": {
        "id": "pybnZakjtPCE"
      },
      "source": [
        "<a name = Section614></a>\n",
        "**<h4>Question:** How are perceived consequences of mental health issues related to general attitudes toward them?</h4>"
      ]
    },
    {
      "cell_type": "code",
      "execution_count": null,
      "metadata": {
        "id": "1t6p2Zb_34wi"
      },
      "outputs": [],
      "source": [
        "def attitude(x):\n",
        "  \"\"\"A custom function to map values in a feature.\"\"\"\n",
        "\n",
        "  if x == 'No':\n",
        "    return 'Positive'\n",
        "  elif x == 'Yes':\n",
        "    return 'Negative'\n",
        "  elif x == 'Maybe':\n",
        "    return 'Moderate'\n",
        "  else:\n",
        "    return x"
      ]
    },
    {
      "cell_type": "code",
      "execution_count": null,
      "metadata": {
        "id": "51jkBCKT4ysk"
      },
      "outputs": [],
      "source": [
        "# Creating a new feature from mental health consequences\n",
        "data['attitudes'] = data['mental_health_consequence'].apply(attitude)\n",
        "\n",
        "# Initialize a figure of size 15 X 7\n",
        "figure = plt.figure(figsize=[15, 7])\n",
        "\n",
        "# Plot frequency of each category in Attitude\n",
        "sns.countplot(y='attitudes', data=data)\n",
        "\n",
        "# Add some cosmetics\n",
        "plt.title(label='Attitude Concerning Mental Health Consequences', size=16)\n",
        "plt.xlabel(xlabel='Frequency', size=14)\n",
        "plt.ylabel(ylabel='Attitude', size=14)\n",
        "plt.xticks(size=12)\n",
        "plt.yticks(size=12)\n",
        "plt.grid(True)\n",
        "\n",
        "# Display the plot\n",
        "plt.show()"
      ]
    },
    {
      "cell_type": "markdown",
      "metadata": {
        "id": "hAOGfGLouDvX"
      },
      "source": [
        "<a name = Section7></a>\n",
        "\n",
        "---\n",
        "# **7. Summarization**\n",
        "---\n",
        "\n",
        "- **<h4>Conclusion</h4>**\n",
        "\n",
        "  - The mental health survey has **helped** us to **understand** the **mental condition of employees** working in tech firms across countries.\n",
        "\n",
        "  - A total of **1259 entries were recorded** during the survey out of which **1007 were recorded** from the **top 3 countries**.\n",
        "\n",
        "  - The **United States leads the chart** in terms of participation in the survey **followed by** the **United Kingdom** and **Canada**.\n",
        "\n",
        "  - From a **state point of view**, **California leads the chart** when run down the analysis.\n",
        "\n",
        "  - **48.1%** of **males**, **70%** of **females**, and **88%** of **trans** were found to have **sought treatment** concerning the overall survey.\n",
        "\n",
        "  - The following set of **parameters** are found to be **affecting mental health** the most and thus requires treatment:\n",
        "    - Age\n",
        "    - Family history,\n",
        "    - Work Interference,\n",
        "    - Number of employees working in a company,\n",
        "\n",
        "\n",
        "-  **<h4>Actionable Insights</h4>**\n",
        "\n",
        "  - There should be an **awareness program** about mental health and its effects.\n",
        "\n",
        "  - Relationship **Managers** **should be supportive** with the right guidance towards their employees.\n",
        "\n",
        "  - Managers should be **unbiased** concerning the work and the employees.\n",
        "\n",
        "  - There should be **appropriate measures** and **support** for the employees suffering from mental health.\n",
        "\n",
        "  - It is **good to give** an **appreciation** at work **regularly**."
      ]
    }
  ],
  "metadata": {
    "colab": {
      "name": "Case Study 1: Mental Health in Tech Workspace.ipynb",
      "provenance": []
    },
    "kernelspec": {
      "display_name": "Python 3 (ipykernel)",
      "language": "python",
      "name": "python3"
    },
    "language_info": {
      "codemirror_mode": {
        "name": "ipython",
        "version": 3
      },
      "file_extension": ".py",
      "mimetype": "text/x-python",
      "name": "python",
      "nbconvert_exporter": "python",
      "pygments_lexer": "ipython3",
      "version": "3.11.4"
    }
  },
  "nbformat": 4,
  "nbformat_minor": 0
}