{
 "cells": [
  {
   "cell_type": "markdown",
   "id": "24dde499",
   "metadata": {},
   "source": [
    "# **EDA_Employee Data to Predict Attrition Trends**\n",
    "# **By Amit Kharche**\n",
    "**Follow me** on [Linkedin](https://www.linkedin.com/in/amit-kharche) and [Medium](https://medium.com/@amitkharche14) for more insights on **Data Science** and **AI**"
   ]
  },
  {
   "cell_type": "markdown",
   "id": "93113c20",
   "metadata": {},
   "source": [
    "<center><img width=20% src=\"https://th.bing.com/th/id/R.6810463b19119cfef654450c8c3d242f?rik=HNwkiOJCEeq7Ew&riu=http%3a%2f%2feastcoast-trading.com%2fwp-content%2fuploads%2frevslider%2fgrid_slider_7%2fpeople.jpg&ehk=4x5Oztx4%2fNCK5XoKfdTph0iPQEU1cRK2EQGxOFhhTZ4%3d&risl=&pid=ImgRaw&r=0\"></center>"
   ]
  },
  {
   "cell_type": "markdown",
   "id": "3f580d8a",
   "metadata": {},
   "source": [
    "---\n",
    "# **Table of Contents**\n",
    "---\n",
    "\n",
    "**1.** [**Introduction**](#Section1)<br>\n",
    "**2.** [**Problem Statement**](#Section2)<br>\n",
    "**3.** [**Installing & Importing Libraries**](#Section3)<br>\n",
    "**4.** [**Data Acquisition & Description**](#Section4)<br>\n",
    "**5.** [**Data Pre-processing**](#Section5)<br>\n",
    "**6.** [**Exploratory Data Analysis**](#Section6)<br>\n",
    "**7.** [**Summarization**](#Section7)<br>"
   ]
  },
  {
   "cell_type": "markdown",
   "id": "58625ea5",
   "metadata": {},
   "source": [
    "---\n",
    "<a name = Section1></a>\n",
    "\n",
    "# **1. Introduction**\n",
    "\n",
    "Employee retention is a critical concern for any organization, especially in the fast-paced and competitive environment of the software industry. High attrition rates not only disrupt team dynamics but also increase recruitment and training costs. Traditionally, the HR department at this software company has relied on **exit interviews** to understand why employees choose to leave. While these interviews offer valuable insights, they are inherently **reactive**—conducted only after the decision to exit has been made.\n",
    "\n",
    "Recognizing these limitations, the HR team is initiating a **proactive, data-driven approach** to enhance employee retention. The goal is to analyze historical data to uncover trends and signals indicative of potential attrition.\n",
    "\n",
    "This EDA focuses on **permanent employees**—the company's long-term talent. The dataset includes demographics, job roles, performance, and employment status.\n",
    "\n",
    "### Objectives:\n",
    "- Assess data structure and quality.\n",
    "- Identify attrition-related patterns.\n",
    "- Generate insights to inform HR strategies.\n",
    "\n",
    "This foundation may later support predictive modeling.\n"
   ]
  },
  {
   "cell_type": "markdown",
   "id": "faf9cc61",
   "metadata": {},
   "source": [
    "---\n",
    "<a name = Section2></a>\n",
    "\n",
    "# **2. Problem Statement**\n",
    "\n",
    "The HR department of a software company currently depends on **exit interviews** to determine why employees leave. However, this **reactive method** has several drawbacks:\n",
    "\n",
    "- Insights vary in quality based on who conducts the interview.\n",
    "- Data from interviews is hard to consolidate and analyze at scale.\n",
    "- Crucially, feedback arrives too late—after the employee has left.\n",
    "\n",
    "To overcome these limitations, HR seeks a **proactive, data-driven strategy** by examining historical employee data. The focus is on uncovering **patterns and drivers** of attrition among **permanent employees**.\n",
    "\n",
    "This project centers on conducting **Exploratory Data Analysis (EDA)** using a dataset that includes attributes of both current and former employees.\n",
    "\n",
    "### Objectives:\n",
    "- Discover features correlated with attrition.\n",
    "- Analyze demographic and organizational factors influencing retention.\n",
    "- Derive actionable insights to guide HR interventions.\n",
    "\n",
    "Ultimately, this EDA aims to support a forward-looking HR strategy and enable early engagement with at-risk employees.\n"
   ]
  },
  {
   "cell_type": "markdown",
   "id": "411b4fd7",
   "metadata": {},
   "source": [
    "---\n",
    "<a name = Section3></a>\n",
    "# **3. Installing & Importing Libraries**\n",
    "---"
   ]
  },
  {
   "cell_type": "markdown",
   "id": "9b7bf1da",
   "metadata": {},
   "source": [
    "<a name = Section31></a>\n",
    "### **3.1 Installing Libraries**"
   ]
  },
  {
   "cell_type": "code",
   "execution_count": 7,
   "id": "e0e09d08",
   "metadata": {},
   "outputs": [],
   "source": [
    "!pip install -q datascience         # Required by pandas-profiling\n",
    "!pip install -q pandas-profiling    # Generates data profiling reports\n",
    "!pip install -q folium==0.5.0       # For interactive map visualizations\n",
    "!pip install -q sweetviz            # For visual exploratory data analysis\n",
    "!pip install xverse\n",
    "!pip install ydata-profiling"
   ]
  },
  {
   "cell_type": "markdown",
   "id": "9f50db07",
   "metadata": {},
   "source": [
    "<a name = Section32></a>\n",
    "### **3.2 Upgrading Libraries**\n",
    "\n",
    "- **After upgrading** the libraries, you need to **restart the runtime** to make the libraries in sync.\n",
    "\n",
    "- Make sure not to execute the cell above (3.1) and below (3.2) again after restarting the runtime."
   ]
  },
  {
   "cell_type": "code",
   "execution_count": null,
   "id": "11067053",
   "metadata": {},
   "outputs": [],
   "source": [
    "!pip install -q --upgrade datascience\n",
    "!pip install -q --upgrade pandas-profiling"
   ]
  },
  {
   "cell_type": "markdown",
   "id": "ccca9c62",
   "metadata": {},
   "source": [
    "<a name = Section32></a>\n",
    "### **3.3 Importing Libraries**"
   ]
  },
  {
   "cell_type": "code",
   "execution_count": 10,
   "id": "59cca25a",
   "metadata": {},
   "outputs": [],
   "source": [
    "import numpy as np\n",
    "from numpy import isnan\n",
    "import pandas as pd\n",
    "from pandas_profiling import ProfileReport\n",
    "import matplotlib.pyplot as plt\n",
    "%matplotlib inline\n",
    "from collections import Counter\n",
    "import seaborn as sns\n",
    "import warnings\n",
    "warnings.filterwarnings(\"ignore\")\n",
    "import datetime"
   ]
  },
  {
   "cell_type": "code",
   "execution_count": 12,
   "id": "b7d426df",
   "metadata": {},
   "outputs": [],
   "source": [
    "import folium                                          # importing folium for\n",
    "import pandas as pd                                    # Importing for panel data analysis\n",
    "from pandas_profiling import ProfileReport             # Importing Pandas Profiling (To generate Univariate Analysis)\n",
    "pd.set_option('display.max_columns', None)             # Unfolding hidden features if the cardinality is high\n",
    "pd.set_option('display.max_colwidth', None)            # Unfolding the max feature width for better clearity\n",
    "pd.set_option('display.max_rows', None)                # Unfolding hidden data points if the cardinality is high\n",
    "pd.set_option('mode.chained_assignment', None)         # Removing restriction over chained assignments operations\n",
    "pd.set_option('display.float_format', lambda x: '%.5f' % x) # To suppress scientific notation over exponential values\n",
    "pd.set_option('mode.chained_assignment',None)           # To Supress pandas warning\n",
    "pd.options.display.max_columns = 50                     # To display every column of the dataset in head()\n",
    "#-------------------------------------------------------------------------------------------------------------------------------\n",
    "import numpy as np                                      # Importing package numpys (For Numerical Python)\n",
    "np.set_printoptions(precision = 4)  # To display value  only upto 4 decimal place\n",
    "#-------------------------------------------------------------------------------------------------------------------------------\n",
    "import matplotlib.pyplot as plt                          # Importing pyplot interface of matplotlib\n",
    "plt.style.use('seaborn-whitegrid')                       # to apply seaborn whitegrid, classic style to the plots\n",
    "%matplotlib inline\n",
    "import seaborn as sns                                    # Importing seaborn library for interactive visualization\n",
    "sns.set(style='whitegrid',font_scale=1.3, color_codes= True)   # To adjust seaborn setting for plot\n",
    "%matplotlib inline\n",
    "#-------------------------------------------------------------------------------------------------------------------------------\n",
    "import plotly.graph_objs as go                            # For interactive graphs\n",
    "#------------------------------------------------------------------------------------------------------------------------------\n",
    "import warnings                                           # Importing warning to disable runtime warnings\n",
    "warnings.filterwarnings(\"ignore\")                         # Warnings will appear only once"
   ]
  },
  {
   "cell_type": "markdown",
   "id": "4cb4d684",
   "metadata": {},
   "source": [
    "---\n",
    "<a name = Section4></a>\n",
    "# **4. Data Acquisition & Description**\n",
    "---\n",
    "\n",
    "\n",
    "- The first dataset consists of the information about department_data.\n",
    "- This dataset contains information about each department. The schema of the dataset is as follows:\n",
    "\n",
    "\n",
    "| ID | Feature Name | Description of the feature |\n",
    "| :-- | :--| :--|\n",
    "|01| **dept_id**   | Unique Department Code|\n",
    "|02| **dept_name**      | Name of the Department|\n",
    "|03| **dept_head**        |Name of the Head of the Department|\n",
    "\n",
    "\n",
    "\n",
    "- The Second dataset consists of the information about employee_details_data.\n",
    "- This dataset consists of Employee ID, their Age, Gender and Marital Status. The schema of this dataset is as follows:\n",
    "\n",
    "\n",
    "\n",
    "| ID | Feature Name | Description of the feature |\n",
    "| :-- | :--| :--|\n",
    "|01| **employee_id**      | Unique ID Number for each employee|\n",
    "|02| **age**      | Age of the employee|\n",
    "|03| **gender**        |Gender of the employee|\n",
    "|04| **marital_status**        |Marital Status of the employee|\n",
    "\n",
    "- The third dataset consists of the information about employee_data.\n",
    "- This dataset consists of each employee’s Administrative Information, Workload Information, Mutual Evaluation Information and Status\n",
    "\n",
    "\n",
    "\n",
    "\n",
    "| ID | Feature Name | Description of the feature |\n",
    "| :-- | :--| :--|\n",
    "|01| **status**      | Current employment status (Employed / Left)|\n",
    "|02| **department**      | Department to which the employees belong(ed) to|\n",
    "|03| **salary**        | Salary level with respect to rest of their department|\n",
    "|04| **tenure**        | Number of years at the company|\n",
    "|05| **recently_promoted**      | Was the employee promoted in the last 3 years?|\n",
    "|06| **employee_id**      | Unique ID Number for each employee|\n",
    "|07| **n_projects**        | Number of projects employee has worked on|\n",
    "|08| **avg_monthly_hrs**        | Average number of hours worked per month|\n",
    "|09| **satisfaction**      |Score for employee’s satisfaction with the company (higher is better)|\n",
    "|10| **last_evaluation**      |Score for most recent evaluation of employee (higher is better)|\n",
    "|11| **filed_complaint**        |Has the employee filed a formal complaint in the last 3 years?|\n",
    "\n"
   ]
  },
  {
   "cell_type": "code",
   "execution_count": null,
   "id": "26c9985b",
   "metadata": {},
   "outputs": [],
   "source": [
    "data = pd.read_csv(filepath_or_buffer = 'https://raw.githubusercontent.com/insaid2018/Term-1/master/Data/Projects/winequality.csv')\n",
    "print('Data Shape:', data.shape)\n",
    "data.head()"
   ]
  },
  {
   "cell_type": "markdown",
   "id": "943da16a",
   "metadata": {},
   "source": [
    "### **Data Description**\n",
    "\n",
    "- To get some quick description out of the data you can use describe method defined in pandas library."
   ]
  },
  {
   "cell_type": "markdown",
   "id": "c0dc5a27",
   "metadata": {},
   "source": [
    "### **Data Information**"
   ]
  },
  {
   "cell_type": "markdown",
   "id": "452175f0",
   "metadata": {},
   "source": [
    "---\n",
    "<a name = Section5></a>\n",
    "# **5. Data Pre-Profiling**\n",
    "---\n",
    "\n",
    "- This section is emphasised on getting a report about the data.\n",
    "\n",
    "- You need to perform pandas profiling and get some observations out of it..."
   ]
  },
  {
   "cell_type": "markdown",
   "id": "591df0e1",
   "metadata": {},
   "source": [
    "---\n",
    "<a name = Section6></a>\n",
    "# **6. Data Pre-Processing**\n",
    "---\n",
    "\n",
    "- This section is emphasised on performing data manipulation over unstructured data for further processing and analysis.\n",
    "\n",
    "- To modify unstructured data to strucuted data you need to verify and manipulate the integrity of the data by:\n",
    "  - Handling missing data,\n",
    "\n",
    "  - Handling redundant data,\n",
    "\n",
    "  - Handling inconsistent data,\n",
    "\n",
    "  - Handling outliers,\n",
    "\n",
    "  - Handling typos"
   ]
  },
  {
   "cell_type": "markdown",
   "id": "7a7b6709",
   "metadata": {},
   "source": [
    "---\n",
    "<a name = Section7></a>\n",
    "# **7. Data Post-Profiling**\n",
    "---\n",
    "\n",
    "- This section is emphasised on getting a report about the data after the data manipulation.\n",
    "\n",
    "- You may end up observing some new changes, so keep it under check and make right observations."
   ]
  },
  {
   "cell_type": "markdown",
   "id": "83ff08fd",
   "metadata": {},
   "source": [
    "---\n",
    "<a name = Section8></a>\n",
    "# **8. Exploratory Data Analysis**\n",
    "---\n",
    "\n",
    "- This section is emphasised on asking the right questions and perform analysis using the data.\n",
    "\n",
    "- Note that there is no limit how deep you can go, but make sure not to get distracted from right track."
   ]
  },
  {
   "cell_type": "markdown",
   "id": "b277d2f6",
   "metadata": {},
   "source": [
    "---\n",
    "<a name = Section9></a>\n",
    "# **9. Summarization**\n",
    "---"
   ]
  },
  {
   "cell_type": "markdown",
   "id": "a88fd5b7",
   "metadata": {},
   "source": [
    "<a name = Section91></a>\n",
    "### **9.1 Conclusion**\n",
    "\n",
    "- In this part you need to provide a conclusion about your overall analysis.\n",
    "\n",
    "- Write down some short points that you have observed so far."
   ]
  },
  {
   "cell_type": "markdown",
   "id": "23b130e3",
   "metadata": {},
   "source": [
    "<a name = Section92></a>\n",
    "### **9.2 Actionable Insights**\n",
    "\n",
    "- This is a very crucial part where you will present your actionable insights.\n",
    "- You need to give suggestions about what could be applied and what not.\n",
    "- Make sure that these suggestions are short and to the point, ultimately it's a catalyst to your business."
   ]
  },
  {
   "cell_type": "code",
   "execution_count": null,
   "id": "e3f6a519",
   "metadata": {},
   "outputs": [],
   "source": []
  }
 ],
 "metadata": {
  "kernelspec": {
   "display_name": "Python 3 (ipykernel)",
   "language": "python",
   "name": "python3"
  },
  "language_info": {
   "codemirror_mode": {
    "name": "ipython",
    "version": 3
   },
   "file_extension": ".py",
   "mimetype": "text/x-python",
   "name": "python",
   "nbconvert_exporter": "python",
   "pygments_lexer": "ipython3",
   "version": "3.11.4"
  }
 },
 "nbformat": 4,
 "nbformat_minor": 5
}
