{
 "cells": [
  {
   "cell_type": "markdown",
   "id": "87d7b4f4",
   "metadata": {},
   "source": [
    "# 1. Introduction\n",
    "\n",
    "This notebook investigates the Automobile CO2 Emissions dataset, aiming to analyze key attributes influencing vehicle emissions and uncover patterns among features such as engine size, fuel consumption, and fuel type."
   ]
  },
  {
   "cell_type": "markdown",
   "id": "bca389ee",
   "metadata": {},
   "source": [
    "# 2. Problem Statement\n",
    "\n",
    "To identify and visualize relationships between automobile features (like engine size, cylinders, fuel type, and fuel consumption) and CO2 emissions, aiding in regulatory and manufacturing insights."
   ]
  },
  {
   "cell_type": "markdown",
   "id": "ac29b88e",
   "metadata": {},
   "source": [
    "# 3. Installing & Importing Libraries"
   ]
  },
  {
   "cell_type": "code",
   "execution_count": null,
   "id": "deb97292",
   "metadata": {},
   "outputs": [],
   "source": [
    "!pip install pandas-profiling --upgrade -q"
   ]
  },
  {
   "cell_type": "code",
   "execution_count": null,
   "id": "6e3d53a7",
   "metadata": {},
   "outputs": [],
   "source": [
    "import numpy as np\n",
    "import pandas as pd\n",
    "import matplotlib.pyplot as plt\n",
    "import seaborn as sns\n",
    "from pandas_profiling import ProfileReport\n",
    "import warnings\n",
    "warnings.filterwarnings('ignore')\n",
    "\n",
    "# Configuration\n",
    "np.set_printoptions(precision=4)\n",
    "pd.set_option('mode.chained_assignment', None)\n",
    "pd.set_option('display.max_colwidth', None)\n",
    "pd.set_option('display.max_columns', None)\n",
    "plt.rc('figure', figsize=(10, 8))\n",
    "sns.set()\n",
    "%matplotlib inline"
   ]
  },
  {
   "cell_type": "markdown",
   "id": "f50452ea",
   "metadata": {},
   "source": [
    "# 4. Data Acquisition & Description"
   ]
  },
  {
   "cell_type": "code",
   "execution_count": null,
   "id": "2d905f2c",
   "metadata": {},
   "outputs": [],
   "source": [
    "df = pd.read_csv('https://raw.githubusercontent.com/insaid2018/Term-2/master/Data/FuelConsumptionCo2.csv')\n",
    "df.head()"
   ]
  },
  {
   "cell_type": "markdown",
   "id": "59c79532",
   "metadata": {},
   "source": [
    "# 5. Data Pre-Profiling"
   ]
  },
  {
   "cell_type": "code",
   "execution_count": null,
   "id": "ba953f2d",
   "metadata": {},
   "outputs": [],
   "source": [
    "df.info()\n",
    "df.describe(include='all')\n",
    "df.isnull().sum()"
   ]
  },
  {
   "cell_type": "markdown",
   "id": "d918d318",
   "metadata": {},
   "source": [
    "# 6. Data Pre-Processing"
   ]
  },
  {
   "cell_type": "code",
   "execution_count": null,
   "id": "ee42acaa",
   "metadata": {},
   "outputs": [],
   "source": [
    "df.drop(columns=['MODELYEAR','FUELCONSUMPTION_COMB_MPG','MODEL'], inplace=True)\n",
    "df = df.drop_duplicates().reset_index(drop=True)\n",
    "df.info()"
   ]
  },
  {
   "cell_type": "markdown",
   "id": "928fab6e",
   "metadata": {},
   "source": [
    "# 7. Data Post-Profiling"
   ]
  },
  {
   "cell_type": "code",
   "execution_count": null,
   "id": "fa2c8304",
   "metadata": {},
   "outputs": [],
   "source": [
    "profile = ProfileReport(df, title='Pandas Profiling Report', minimal=True, progress_bar=False)\n",
    "profile.to_file('Automobile_CO2_Emissions_Profile.html')"
   ]
  },
  {
   "cell_type": "markdown",
   "id": "931843c9",
   "metadata": {},
   "source": [
    "# 8. Exploratory Data Analysis\n",
    "\n",
    "10 key visual questions answered with visuals."
   ]
  },
  {
   "cell_type": "markdown",
   "id": "11380fd6",
   "metadata": {},
   "source": [
    "### CO2 Emissions by Car Brand"
   ]
  },
  {
   "cell_type": "code",
   "execution_count": null,
   "id": "9b1482d6",
   "metadata": {},
   "outputs": [],
   "source": [
    "brand_avg = df[['MAKE', 'CO2EMISSIONS']].groupby('MAKE').mean().sort_values('CO2EMISSIONS', ascending=False)\n",
    "sns.barplot(y=brand_avg.index[:15], x=brand_avg['CO2EMISSIONS'][:15]); plt.title('Top 15 Brands by Avg CO2 Emissions'); plt.xlabel('CO2 EMISSIONS (g/km)'); plt.show()"
   ]
  },
  {
   "cell_type": "markdown",
   "id": "d953e851",
   "metadata": {},
   "source": [
    "### Top 10 Vehicle Classes by Average Emissions"
   ]
  },
  {
   "cell_type": "code",
   "execution_count": null,
   "id": "254e1f7a",
   "metadata": {},
   "outputs": [],
   "source": [
    "veh_class_avg = df[['VEHICLECLASS','CO2EMISSIONS']].groupby('VEHICLECLASS').mean().sort_values('CO2EMISSIONS', ascending=False).head(10)\n",
    "sns.barplot(y=veh_class_avg.index, x=veh_class_avg['CO2EMISSIONS']); plt.title('Top Vehicle Classes by Avg Emissions'); plt.xlabel('CO2 EMISSIONS (g/km)'); plt.show()"
   ]
  },
  {
   "cell_type": "markdown",
   "id": "dc4d9158",
   "metadata": {},
   "source": [
    "### Engine Size Distribution"
   ]
  },
  {
   "cell_type": "code",
   "execution_count": null,
   "id": "eb7b24ee",
   "metadata": {},
   "outputs": [],
   "source": [
    "sns.histplot(df['ENGINESIZE'], bins=30, kde=True); plt.xlabel('Engine Size (L)'); plt.title('Engine Size Distribution'); plt.show()"
   ]
  },
  {
   "cell_type": "markdown",
   "id": "c88d0655",
   "metadata": {},
   "source": [
    "### Engine Size vs CO2 Emissions"
   ]
  },
  {
   "cell_type": "code",
   "execution_count": null,
   "id": "0b5bf119",
   "metadata": {},
   "outputs": [],
   "source": [
    "sns.lineplot(x='ENGINESIZE', y='CO2EMISSIONS', data=df); plt.xlabel('Engine Size'); plt.ylabel('CO2 EMISSIONS'); plt.title('Engine Size vs CO2 Emissions'); plt.show()"
   ]
  },
  {
   "cell_type": "markdown",
   "id": "e4f0ecb1",
   "metadata": {},
   "source": [
    "### Cylinders Count Distribution"
   ]
  },
  {
   "cell_type": "code",
   "execution_count": null,
   "id": "3d8e8334",
   "metadata": {},
   "outputs": [],
   "source": [
    "sns.countplot(x='CYLINDERS', data=df, order=df['CYLINDERS'].value_counts().index); plt.title('Cylinders Count Distribution'); plt.xlabel('Cylinders'); plt.show()"
   ]
  },
  {
   "cell_type": "markdown",
   "id": "bf7f4fa3",
   "metadata": {},
   "source": [
    "### CO2 Emissions by Cylinder Count"
   ]
  },
  {
   "cell_type": "code",
   "execution_count": null,
   "id": "1ed1d5e4",
   "metadata": {},
   "outputs": [],
   "source": [
    "cyl_emissions = df[['CYLINDERS','CO2EMISSIONS']].groupby('CYLINDERS').mean().sort_values('CO2EMISSIONS', ascending=False)\n",
    "sns.barplot(x=cyl_emissions.index, y=cyl_emissions['CO2EMISSIONS']); plt.ylabel('CO2 EMISSIONS (g/km)'); plt.title('CO2 Emissions by Cylinders'); plt.show()"
   ]
  },
  {
   "cell_type": "markdown",
   "id": "13597fc8",
   "metadata": {},
   "source": [
    "### CO2 Emissions by Transmission Type"
   ]
  },
  {
   "cell_type": "code",
   "execution_count": null,
   "id": "bd1bccdb",
   "metadata": {},
   "outputs": [],
   "source": [
    "trans_emissions = df[['TRANSMISSION','CO2EMISSIONS']].groupby('TRANSMISSION').mean().sort_values('CO2EMISSIONS', ascending=False)\n",
    "sns.barplot(y=trans_emissions.index, x=trans_emissions['CO2EMISSIONS']); plt.title('CO2 Emissions by Transmission'); plt.xlabel('CO2 EMISSIONS'); plt.show()"
   ]
  },
  {
   "cell_type": "markdown",
   "id": "0276cef3",
   "metadata": {},
   "source": [
    "### CO2 Emissions by Fuel Type"
   ]
  },
  {
   "cell_type": "code",
   "execution_count": null,
   "id": "d6967420",
   "metadata": {},
   "outputs": [],
   "source": [
    "fuel_emissions = df[['FUELTYPE','CO2EMISSIONS']].groupby('FUELTYPE').mean().sort_values('CO2EMISSIONS', ascending=False)\n",
    "sns.barplot(x=fuel_emissions.index, y=fuel_emissions['CO2EMISSIONS']); plt.ylabel('CO2 EMISSIONS'); plt.title('CO2 Emissions by Fuel Type'); plt.show()"
   ]
  },
  {
   "cell_type": "markdown",
   "id": "cdcf65b7",
   "metadata": {},
   "source": [
    "### Fuel Consumption (City) vs CO2 Emissions by Fuel Type"
   ]
  },
  {
   "cell_type": "code",
   "execution_count": null,
   "id": "f5a2dc28",
   "metadata": {},
   "outputs": [],
   "source": [
    "sns.scatterplot(x='FUELCONSUMPTION_CITY', y='CO2EMISSIONS', hue='FUELTYPE', data=df); plt.title('Fuel Consumption City vs CO2 Emissions'); plt.xlabel('City Fuel Consumption (L/100km)'); plt.ylabel('CO2 Emissions'); plt.show()"
   ]
  },
  {
   "cell_type": "markdown",
   "id": "9ebb899a",
   "metadata": {},
   "source": [
    "### Overall Correlation Heatmap"
   ]
  },
  {
   "cell_type": "code",
   "execution_count": null,
   "id": "0a93e293",
   "metadata": {},
   "outputs": [],
   "source": [
    "sns.heatmap(df.corr(), annot=True, cmap='RdBu'); plt.title('Correlation Heatmap'); plt.show()"
   ]
  },
  {
   "cell_type": "markdown",
   "id": "a6e9a291",
   "metadata": {},
   "source": [
    "# 9. Summarization"
   ]
  },
  {
   "cell_type": "markdown",
   "id": "e3a97fa4",
   "metadata": {},
   "source": [
    "## 9.1 Conclusion\n",
    "\n",
    "- Engine size, number of cylinders, and fuel consumption are major contributors to CO2 emissions.\n",
    "- Vehicle class and transmission types also influence emissions levels.\n",
    "- Profiling reveals high-emission fuel types and brands that exceed average thresholds.\n",
    "\n",
    "## 9.2 Actionable Insights\n",
    "\n",
    "- Regulations can target vehicle classes and brands with highest emissions.\n",
    "- Consumers should prefer models with lower engine size and optimized fuel usage.\n",
    "- Automotive manufacturers can prioritize emission reduction in larger engine designs."
   ]
  },
  {
   "cell_type": "markdown",
   "id": "5eb6728e",
   "metadata": {},
   "source": [
    "# 📊 Extended EDA: 10 Key Questions with Visualizations"
   ]
  },
  {
   "cell_type": "markdown",
   "id": "228d4fea",
   "metadata": {},
   "source": [
    "### 🔹 Q: Which car brands produce the highest average CO2 emissions?"
   ]
  },
  {
   "cell_type": "code",
   "execution_count": null,
   "id": "b40ed8f1",
   "metadata": {},
   "outputs": [],
   "source": [
    "brand_avg = df[['MAKE', 'CO2EMISSIONS']].groupby('MAKE').mean().sort_values('CO2EMISSIONS', ascending=False)\n",
    "sns.barplot(y=brand_avg.index[:15], x=brand_avg['CO2EMISSIONS'][:15]); plt.title('Top 15 Brands by Avg CO2 Emissions'); plt.xlabel('CO2 EMISSIONS (g/km)'); plt.show()"
   ]
  },
  {
   "cell_type": "markdown",
   "id": "b9ec9e50",
   "metadata": {},
   "source": [
    "### 🔹 Q: What is the distribution of vehicle classes in the dataset?"
   ]
  },
  {
   "cell_type": "code",
   "execution_count": null,
   "id": "1c5f292f",
   "metadata": {},
   "outputs": [],
   "source": [
    "plt.figure(figsize=(10,8))\n",
    "sns.countplot(y='VEHICLECLASS', data=df, order=df['VEHICLECLASS'].value_counts().index)\n",
    "plt.title('Distribution of Vehicle Classes'); plt.show()"
   ]
  },
  {
   "cell_type": "markdown",
   "id": "81cc600e",
   "metadata": {},
   "source": [
    "### 🔹 Q: Which vehicle classes have the highest average CO2 emissions?"
   ]
  },
  {
   "cell_type": "code",
   "execution_count": null,
   "id": "b02080f0",
   "metadata": {},
   "outputs": [],
   "source": [
    "veh_class_avg = df[['VEHICLECLASS','CO2EMISSIONS']].groupby('VEHICLECLASS').mean().sort_values('CO2EMISSIONS', ascending=False).head(10)\n",
    "sns.barplot(y=veh_class_avg.index, x=veh_class_avg['CO2EMISSIONS']); plt.title('Top Vehicle Classes by Avg Emissions'); plt.xlabel('CO2 EMISSIONS (g/km)'); plt.show()"
   ]
  },
  {
   "cell_type": "markdown",
   "id": "fe77b1db",
   "metadata": {},
   "source": [
    "### 🔹 Q: What is the distribution of engine sizes in the dataset?"
   ]
  },
  {
   "cell_type": "code",
   "execution_count": null,
   "id": "3ee6d6eb",
   "metadata": {},
   "outputs": [],
   "source": [
    "sns.histplot(df['ENGINESIZE'], bins=30, kde=True); plt.xlabel('Engine Size (L)'); plt.title('Engine Size Distribution'); plt.show()"
   ]
  },
  {
   "cell_type": "markdown",
   "id": "aa089acd",
   "metadata": {},
   "source": [
    "### 🔹 Q: How does engine size affect CO2 emissions?"
   ]
  },
  {
   "cell_type": "code",
   "execution_count": null,
   "id": "0c9fab45",
   "metadata": {},
   "outputs": [],
   "source": [
    "sns.lineplot(x='ENGINESIZE', y='CO2EMISSIONS', data=df); plt.xlabel('Engine Size'); plt.ylabel('CO2 EMISSIONS'); plt.title('Engine Size vs CO2 Emissions'); plt.show()"
   ]
  },
  {
   "cell_type": "markdown",
   "id": "6011bba6",
   "metadata": {},
   "source": [
    "### 🔹 Q: How are CO2 emissions related to the number of cylinders?"
   ]
  },
  {
   "cell_type": "code",
   "execution_count": null,
   "id": "93a90b01",
   "metadata": {},
   "outputs": [],
   "source": [
    "cyl_emissions = df[['CYLINDERS','CO2EMISSIONS']].groupby('CYLINDERS').mean().sort_values('CO2EMISSIONS', ascending=False)\n",
    "sns.barplot(x=cyl_emissions.index, y=cyl_emissions['CO2EMISSIONS']); plt.ylabel('CO2 EMISSIONS (g/km)'); plt.title('CO2 Emissions by Cylinders'); plt.show()"
   ]
  },
  {
   "cell_type": "markdown",
   "id": "c8098da3",
   "metadata": {},
   "source": [
    "### 🔹 Q: How do different transmission types compare in terms of CO2 emissions?"
   ]
  },
  {
   "cell_type": "code",
   "execution_count": null,
   "id": "00b5b1e2",
   "metadata": {},
   "outputs": [],
   "source": [
    "trans_emissions = df[['TRANSMISSION','CO2EMISSIONS']].groupby('TRANSMISSION').mean().sort_values('CO2EMISSIONS', ascending=False)\n",
    "sns.barplot(y=trans_emissions.index, x=trans_emissions['CO2EMISSIONS']); plt.title('CO2 Emissions by Transmission'); plt.xlabel('CO2 EMISSIONS'); plt.show()"
   ]
  },
  {
   "cell_type": "markdown",
   "id": "dd4d85d0",
   "metadata": {},
   "source": [
    "### 🔹 Q: Which fuel types are most common and how do they impact CO2 emissions?"
   ]
  },
  {
   "cell_type": "code",
   "execution_count": null,
   "id": "f6b534ed",
   "metadata": {},
   "outputs": [],
   "source": [
    "fuel_emissions = df[['FUELTYPE','CO2EMISSIONS']].groupby('FUELTYPE').mean().sort_values('CO2EMISSIONS', ascending=False)\n",
    "sns.barplot(x=fuel_emissions.index, y=fuel_emissions['CO2EMISSIONS']); plt.ylabel('CO2 EMISSIONS'); plt.title('CO2 Emissions by Fuel Type'); plt.show()"
   ]
  },
  {
   "cell_type": "markdown",
   "id": "cfbc1de7",
   "metadata": {},
   "source": [
    "### 🔹 Q: How does fuel consumption in the city affect CO2 emissions by fuel type?"
   ]
  },
  {
   "cell_type": "code",
   "execution_count": null,
   "id": "09bf33ea",
   "metadata": {},
   "outputs": [],
   "source": [
    "sns.scatterplot(x='FUELCONSUMPTION_CITY', y='CO2EMISSIONS', hue='FUELTYPE', data=df); plt.title('Fuel Consumption City vs CO2 Emissions'); plt.xlabel('City Fuel Consumption (L/100km)'); plt.ylabel('CO2 Emissions'); plt.show()"
   ]
  },
  {
   "cell_type": "markdown",
   "id": "2e1d8025",
   "metadata": {},
   "source": [
    "### 🔹 Q: What do the correlations between all numerical variables reveal?"
   ]
  },
  {
   "cell_type": "code",
   "execution_count": null,
   "id": "55ec7496",
   "metadata": {},
   "outputs": [],
   "source": [
    "sns.heatmap(df.corr(), annot=True, cmap='RdBu'); plt.title('Correlation Heatmap'); plt.show()"
   ]
  }
 ],
 "metadata": {},
 "nbformat": 4,
 "nbformat_minor": 5
}
