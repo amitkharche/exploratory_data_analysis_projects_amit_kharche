{
 "cells": [
  {
   "cell_type": "markdown",
   "metadata": {},
   "source": [
    "## Loading Libraries:"
   ]
  },
  {
   "cell_type": "code",
   "execution_count": 1,
   "metadata": {},
   "outputs": [],
   "source": [
    "import numpy as np \n",
    "import pandas as pd \n",
    "import seaborn as sns \n",
    "import matplotlib.pyplot as plt \n",
    "  \n",
    "  \n",
    "from scipy.stats import trim_mean "
   ]
  },
  {
   "cell_type": "markdown",
   "metadata": {},
   "source": [
    "## Loading Data:"
   ]
  },
  {
   "cell_type": "code",
   "execution_count": 2,
   "metadata": {},
   "outputs": [
    {
     "name": "stdout",
     "output_type": "stream",
     "text": [
      "Type :  <class 'pandas.core.frame.DataFrame'> \n",
      "\n",
      "\n",
      "Head -- \n",
      "          State  Population  Murder.Rate Abbreviation\n",
      "0      Alabama     4779736          5.7           AL\n",
      "1       Alaska      710231          5.6           AK\n",
      "2      Arizona     6392017          4.7           AZ\n",
      "3     Arkansas     2915918          5.6           AR\n",
      "4   California    37253956          4.4           CA\n",
      "5     Colorado     5029196          2.8           CO\n",
      "6  Connecticut     3574097          2.4           CT\n",
      "7     Delaware      897934          5.8           DE\n",
      "8      Florida    18801310          5.8           FL\n",
      "9      Georgia     9687653          5.7           GA\n",
      "\n",
      "\n",
      " Tail -- \n",
      "             State  Population  Murder.Rate Abbreviation\n",
      "40   South Dakota      814180          2.3           SD\n",
      "41      Tennessee     6346105          5.7           TN\n",
      "42          Texas    25145561          4.4           TX\n",
      "43           Utah     2763885          2.3           UT\n",
      "44        Vermont      625741          1.6           VT\n",
      "45       Virginia     8001024          4.1           VA\n",
      "46     Washington     6724540          2.5           WA\n",
      "47  West Virginia     1852994          4.0           WV\n",
      "48      Wisconsin     5686986          2.9           WI\n",
      "49        Wyoming      563626          2.7           WY\n"
     ]
    }
   ],
   "source": [
    "data = pd.read_csv(\"state.csv\") \n",
    "  \n",
    "# Check the type of data \n",
    "print (\"Type : \", type(data), \"\\n\\n\") \n",
    "  \n",
    "# Printing Top 10 Records \n",
    "print (\"Head -- \\n\", data.head(10)) \n",
    "  \n",
    "# Printing last 10 Records  \n",
    "print (\"\\n\\n Tail -- \\n\", data.tail(10)) "
   ]
  },
  {
   "cell_type": "markdown",
   "metadata": {},
   "source": [
    "## Code #1 : Adding Column to the dataframe"
   ]
  },
  {
   "cell_type": "code",
   "execution_count": 3,
   "metadata": {},
   "outputs": [
    {
     "name": "stdout",
     "output_type": "stream",
     "text": [
      "        State  Population  Murder.Rate Abbreviation  PopulationInMillions\n",
      "0     Alabama     4779736          5.7           AL              4.779736\n",
      "1      Alaska      710231          5.6           AK              0.710231\n",
      "2     Arizona     6392017          4.7           AZ              6.392017\n",
      "3    Arkansas     2915918          5.6           AR              2.915918\n",
      "4  California    37253956          4.4           CA             37.253956\n"
     ]
    }
   ],
   "source": [
    "# Adding a new column with derived data  \n",
    "  \n",
    "data['PopulationInMillions'] = data['Population']/1000000\n",
    "  \n",
    "# Changed data \n",
    "print (data.head(5)) "
   ]
  },
  {
   "cell_type": "markdown",
   "metadata": {},
   "source": [
    "## Code #2 : Data Description"
   ]
  },
  {
   "cell_type": "code",
   "execution_count": 4,
   "metadata": {},
   "outputs": [
    {
     "data": {
      "text/html": [
       "<div>\n",
       "<style scoped>\n",
       "    .dataframe tbody tr th:only-of-type {\n",
       "        vertical-align: middle;\n",
       "    }\n",
       "\n",
       "    .dataframe tbody tr th {\n",
       "        vertical-align: top;\n",
       "    }\n",
       "\n",
       "    .dataframe thead th {\n",
       "        text-align: right;\n",
       "    }\n",
       "</style>\n",
       "<table border=\"1\" class=\"dataframe\">\n",
       "  <thead>\n",
       "    <tr style=\"text-align: right;\">\n",
       "      <th></th>\n",
       "      <th>Population</th>\n",
       "      <th>Murder.Rate</th>\n",
       "      <th>PopulationInMillions</th>\n",
       "    </tr>\n",
       "  </thead>\n",
       "  <tbody>\n",
       "    <tr>\n",
       "      <th>count</th>\n",
       "      <td>5.000000e+01</td>\n",
       "      <td>50.000000</td>\n",
       "      <td>50.000000</td>\n",
       "    </tr>\n",
       "    <tr>\n",
       "      <th>mean</th>\n",
       "      <td>6.162876e+06</td>\n",
       "      <td>4.066000</td>\n",
       "      <td>6.162876</td>\n",
       "    </tr>\n",
       "    <tr>\n",
       "      <th>std</th>\n",
       "      <td>6.848235e+06</td>\n",
       "      <td>1.915736</td>\n",
       "      <td>6.848235</td>\n",
       "    </tr>\n",
       "    <tr>\n",
       "      <th>min</th>\n",
       "      <td>5.636260e+05</td>\n",
       "      <td>0.900000</td>\n",
       "      <td>0.563626</td>\n",
       "    </tr>\n",
       "    <tr>\n",
       "      <th>25%</th>\n",
       "      <td>1.833004e+06</td>\n",
       "      <td>2.425000</td>\n",
       "      <td>1.833004</td>\n",
       "    </tr>\n",
       "    <tr>\n",
       "      <th>50%</th>\n",
       "      <td>4.436370e+06</td>\n",
       "      <td>4.000000</td>\n",
       "      <td>4.436369</td>\n",
       "    </tr>\n",
       "    <tr>\n",
       "      <th>75%</th>\n",
       "      <td>6.680312e+06</td>\n",
       "      <td>5.550000</td>\n",
       "      <td>6.680312</td>\n",
       "    </tr>\n",
       "    <tr>\n",
       "      <th>max</th>\n",
       "      <td>3.725396e+07</td>\n",
       "      <td>10.300000</td>\n",
       "      <td>37.253956</td>\n",
       "    </tr>\n",
       "  </tbody>\n",
       "</table>\n",
       "</div>"
      ],
      "text/plain": [
       "         Population  Murder.Rate  PopulationInMillions\n",
       "count  5.000000e+01    50.000000             50.000000\n",
       "mean   6.162876e+06     4.066000              6.162876\n",
       "std    6.848235e+06     1.915736              6.848235\n",
       "min    5.636260e+05     0.900000              0.563626\n",
       "25%    1.833004e+06     2.425000              1.833004\n",
       "50%    4.436370e+06     4.000000              4.436369\n",
       "75%    6.680312e+06     5.550000              6.680312\n",
       "max    3.725396e+07    10.300000             37.253956"
      ]
     },
     "execution_count": 4,
     "metadata": {},
     "output_type": "execute_result"
    }
   ],
   "source": [
    "data.describe() "
   ]
  },
  {
   "cell_type": "markdown",
   "metadata": {},
   "source": [
    "## Code #3 : Data Info"
   ]
  },
  {
   "cell_type": "code",
   "execution_count": 5,
   "metadata": {},
   "outputs": [
    {
     "name": "stdout",
     "output_type": "stream",
     "text": [
      "<class 'pandas.core.frame.DataFrame'>\n",
      "RangeIndex: 50 entries, 0 to 49\n",
      "Data columns (total 5 columns):\n",
      "State                   50 non-null object\n",
      "Population              50 non-null int64\n",
      "Murder.Rate             50 non-null float64\n",
      "Abbreviation            50 non-null object\n",
      "PopulationInMillions    50 non-null float64\n",
      "dtypes: float64(2), int64(1), object(2)\n",
      "memory usage: 2.0+ KB\n"
     ]
    }
   ],
   "source": [
    "data.info()"
   ]
  },
  {
   "cell_type": "markdown",
   "metadata": {},
   "source": [
    "## Code #4 : Renaming a column heading"
   ]
  },
  {
   "cell_type": "code",
   "execution_count": 6,
   "metadata": {},
   "outputs": [
    {
     "data": {
      "text/plain": [
       "['State', 'Population', 'MurderRate', 'Abbreviation', 'PopulationInMillions']"
      ]
     },
     "execution_count": 6,
     "metadata": {},
     "output_type": "execute_result"
    }
   ],
   "source": [
    "# Rename column heading as it  \n",
    "# has '.' in it which will create \n",
    "# problems when dealing functions  \n",
    "  \n",
    "data.rename(columns ={'Murder.Rate': 'MurderRate'}, inplace = True) \n",
    "  \n",
    "# Lets check the column headings \n",
    "list(data) "
   ]
  },
  {
   "cell_type": "markdown",
   "metadata": {},
   "source": [
    "## Code #5 : Calculating Mean"
   ]
  },
  {
   "cell_type": "code",
   "execution_count": 7,
   "metadata": {},
   "outputs": [
    {
     "name": "stdout",
     "output_type": "stream",
     "text": [
      "Population Mean :  6162876.3\n",
      "\n",
      "MurderRate Mean :  4.066\n"
     ]
    }
   ],
   "source": [
    "Population_mean = data.Population.mean() \n",
    "print (\"Population Mean : \", Population_mean) \n",
    "  \n",
    "MurderRate_mean = data.MurderRate.mean() \n",
    "print (\"\\nMurderRate Mean : \", MurderRate_mean) "
   ]
  },
  {
   "cell_type": "markdown",
   "metadata": {},
   "source": [
    "## Code #6 : Trimmed mean"
   ]
  },
  {
   "cell_type": "code",
   "execution_count": 8,
   "metadata": {},
   "outputs": [
    {
     "name": "stdout",
     "output_type": "stream",
     "text": [
      "Population trimmed mean:  4783697.125\n",
      "\n",
      "MurderRate trimmed mean:  3.9450000000000003\n"
     ]
    }
   ],
   "source": [
    "# Mean after discarding top and  \n",
    "# bottom 10 % values eliminating outliers \n",
    "  \n",
    "population_TM = trim_mean(data.Population, 0.1) \n",
    "print (\"Population trimmed mean: \", population_TM) \n",
    "  \n",
    "murder_TM = trim_mean(data.MurderRate, 0.1) \n",
    "print (\"\\nMurderRate trimmed mean: \", murder_TM)"
   ]
  },
  {
   "cell_type": "markdown",
   "metadata": {},
   "source": [
    "## Code #7 : Weighted Mean"
   ]
  },
  {
   "cell_type": "code",
   "execution_count": 9,
   "metadata": {},
   "outputs": [
    {
     "name": "stdout",
     "output_type": "stream",
     "text": [
      "Weighted MurderRate Mean:  4.445833981123393\n"
     ]
    }
   ],
   "source": [
    "# here murder rate is weighed as per  \n",
    "# the state population \n",
    "  \n",
    "murderRate_WM = np.average(data.MurderRate, weights = data.Population) \n",
    "print (\"Weighted MurderRate Mean: \", murderRate_WM)"
   ]
  },
  {
   "cell_type": "markdown",
   "metadata": {},
   "source": [
    "## Code #8 : Median"
   ]
  },
  {
   "cell_type": "code",
   "execution_count": 10,
   "metadata": {},
   "outputs": [
    {
     "name": "stdout",
     "output_type": "stream",
     "text": [
      "Population median :  4436369.5\n",
      "\n",
      "MurderRate median :  4.0\n"
     ]
    }
   ],
   "source": [
    "Population_median = data.Population.median() \n",
    "print (\"Population median : \", Population_median) \n",
    "  \n",
    "MurderRate_median = data.MurderRate.median() \n",
    "print (\"\\nMurderRate median : \", MurderRate_median)"
   ]
  },
  {
   "cell_type": "markdown",
   "metadata": {},
   "source": [
    "## Visualizing Population per Million"
   ]
  },
  {
   "cell_type": "code",
   "execution_count": 11,
   "metadata": {},
   "outputs": [
    {
     "data": {
      "text/plain": [
       "(array([ 0,  1,  2,  3,  4,  5,  6,  7,  8,  9, 10, 11, 12, 13, 14, 15, 16,\n",
       "        17, 18, 19, 20, 21, 22, 23, 24, 25, 26, 27, 28, 29, 30, 31, 32, 33,\n",
       "        34, 35, 36, 37, 38, 39, 40, 41, 42, 43, 44, 45, 46, 47, 48, 49]),\n",
       " <a list of 50 Text xticklabel objects>)"
      ]
     },
     "execution_count": 11,
     "metadata": {},
     "output_type": "execute_result"
    },
    {
     "data": {
      "image/png": "[encoded data removed]",
      "text/plain": [
       "<Figure size 1080x648 with 1 Axes>"
      ]
     },
     "metadata": {
      "needs_background": "light"
     },
     "output_type": "display_data"
    }
   ],
   "source": [
    "# Plot Population In Millions \n",
    "fig, ax1 = plt.subplots() \n",
    "fig.set_size_inches(15,  9) \n",
    "  \n",
    "  \n",
    "ax1 = sns.barplot(x =\"State\", y =\"Population\",  \n",
    "                  data = data.sort_values('MurderRate'),  \n",
    "                                        palette =\"Set2\") \n",
    "  \n",
    "ax1.set(xlabel ='States', ylabel ='Population In Millions') \n",
    "ax1.set_title('Population in Millions by State', size = 20) \n",
    "  \n",
    "plt.xticks(rotation =-90) "
   ]
  },
  {
   "cell_type": "markdown",
   "metadata": {},
   "source": [
    "## Visualizing Murder Rate per Lakh"
   ]
  },
  {
   "cell_type": "code",
   "execution_count": 12,
   "metadata": {},
   "outputs": [
    {
     "data": {
      "text/plain": [
       "(array([ 0,  1,  2,  3,  4,  5,  6,  7,  8,  9, 10, 11, 12, 13, 14, 15, 16,\n",
       "        17, 18, 19, 20, 21, 22, 23, 24, 25, 26, 27, 28, 29, 30, 31, 32, 33,\n",
       "        34, 35, 36, 37, 38, 39, 40, 41, 42, 43, 44, 45, 46, 47, 48, 49]),\n",
       " <a list of 50 Text xticklabel objects>)"
      ]
     },
     "execution_count": 12,
     "metadata": {},
     "output_type": "execute_result"
    },
    {
     "data": {
      "image/png": "[encoded data removed]",
      "text/plain": [
       "<Figure size 1080x648 with 1 Axes>"
      ]
     },
     "metadata": {
      "needs_background": "light"
     },
     "output_type": "display_data"
    }
   ],
   "source": [
    "# Plot Murder Rate per 1, 00, 000 \n",
    "  \n",
    "fig, ax2 = plt.subplots() \n",
    "fig.set_size_inches(15,  9) \n",
    "  \n",
    "  \n",
    "ax2 = sns.barplot( \n",
    "    x =\"State\", y =\"MurderRate\",  \n",
    "    data = data.sort_values('MurderRate', ascending = 1),  \n",
    "                                         palette =\"husl\") \n",
    "  \n",
    "ax2.set(xlabel ='States', ylabel ='Murder Rate per 100000') \n",
    "ax2.set_title('Murder Rate by State', size = 20) \n",
    "  \n",
    "plt.xticks(rotation =-90) "
   ]
  },
  {
   "cell_type": "markdown",
   "metadata": {},
   "source": [
    "Although Louisiana is ranked 17 by population (about 4.53M), it has the highest Murder rate of 10.3 per 1M people."
   ]
  },
  {
   "cell_type": "markdown",
   "metadata": {},
   "source": [
    "## Code #1 : Standard Deviation"
   ]
  },
  {
   "cell_type": "code",
   "execution_count": 13,
   "metadata": {},
   "outputs": [
    {
     "name": "stdout",
     "output_type": "stream",
     "text": [
      "Population std :  6848235.347401142\n",
      "\n",
      "MurderRate std :  1.915736124302923\n"
     ]
    }
   ],
   "source": [
    "Population_std = data.Population.std() \n",
    "print (\"Population std : \", Population_std) \n",
    "  \n",
    "MurderRate_std = data.MurderRate.std() \n",
    "print (\"\\nMurderRate std : \", MurderRate_std) "
   ]
  },
  {
   "cell_type": "markdown",
   "metadata": {},
   "source": [
    "## Code #2 : Variance"
   ]
  },
  {
   "cell_type": "code",
   "execution_count": 14,
   "metadata": {},
   "outputs": [
    {
     "name": "stdout",
     "output_type": "stream",
     "text": [
      "Population var :  46898327373394.445\n",
      "\n",
      "MurderRate var :  3.670044897959184\n"
     ]
    }
   ],
   "source": [
    "Population_var = data.Population.var() \n",
    "print (\"Population var : \", Population_var) \n",
    "  \n",
    "MurderRate_var = data.MurderRate.var() \n",
    "print (\"\\nMurderRate var : \", MurderRate_var) "
   ]
  },
  {
   "cell_type": "markdown",
   "metadata": {},
   "source": [
    "## Code #3 : Inter Quartile Range"
   ]
  },
  {
   "cell_type": "code",
   "execution_count": 19,
   "metadata": {},
   "outputs": [
    {
     "name": "stdout",
     "output_type": "stream",
     "text": [
      "Population IQR :  4847308.0\n",
      "\n",
      "MurderRate IQR :  3.124999999999999\n"
     ]
    }
   ],
   "source": [
    "# Inter Quartile Range of Population \n",
    "population_IQR = data.Population.describe()['75%'] - data.Population.describe()['25%'] \n",
    "  \n",
    "print (\"Population IQR : \", population_IQR) \n",
    "  \n",
    "# Inter Quartile Range of Murder Rate \n",
    "MurderRate_IQR = data.MurderRate.describe()['75%'] - data.MurderRate.describe()['25%'] \n",
    "  \n",
    "print (\"\\nMurderRate IQR : \", MurderRate_IQR)"
   ]
  },
  {
   "cell_type": "markdown",
   "metadata": {},
   "source": [
    "## Code #4 : Median Absolute Deviation (MAD)"
   ]
  },
  {
   "cell_type": "code",
   "execution_count": 20,
   "metadata": {},
   "outputs": [
    {
     "name": "stdout",
     "output_type": "stream",
     "text": [
      "Population mad :  4450933.356000001\n",
      "\n",
      "MurderRate mad :  1.5526400000000005\n"
     ]
    }
   ],
   "source": [
    "Population_mad = data.Population.mad() \n",
    "print (\"Population mad : \", Population_mad) \n",
    "  \n",
    "MurderRate_mad = data.MurderRate.mad() \n",
    "print (\"\\nMurderRate mad : \", MurderRate_mad)"
   ]
  }
 ],
 "metadata": {
  "kernelspec": {
   "display_name": "Python 3",
   "language": "python",
   "name": "python3"
  },
  "language_info": {
   "codemirror_mode": {
    "name": "ipython",
    "version": 3
   },
   "file_extension": ".py",
   "mimetype": "text/x-python",
   "name": "python",
   "nbconvert_exporter": "python",
   "pygments_lexer": "ipython3",
   "version": "3.7.3"
  }
 },
 "nbformat": 4,
 "nbformat_minor": 2
}
