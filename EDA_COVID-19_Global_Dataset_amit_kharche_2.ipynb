{
 "cells": [
  {
   "cell_type": "markdown",
   "metadata": {
    "id": "04O2oSfyl6Pr"
   },
   "source": [
    "# **EDA_COVID-19_Global_Dataset**\n",
    "# **By Amit Kharche**\n",
    "**Follow me** on [Linkedin](https://www.linkedin.com/in/amit-kharche) and [Medium](https://medium.com/@amitkharche14) for more insights on **Data Science** and **Artificial intelligence (AI)**"
   ]
  },
  {
   "cell_type": "markdown",
   "metadata": {
    "id": "X5RKNiirmGJR"
   },
   "source": [
    "---\n",
    "# **Table of Contents**\n",
    "---\n",
    "\n",
    "**1.** [**Introduction**](#Section1)<br>\n",
    "**2.** [**Problem Statement**](#Section2)<br>\n",
    "**3.** [**Installing & Importing Libraries**](#Section3)<br>\n",
    "  - **3.1** [**Installing Libraries**](#Section31)<br>\n",
    "  - **3.2** [**Upgrading Libraries**](#Section32)<br>\n",
    "  - **3.3** [**Importing Libraries**](#Section33)<br>\n",
    "\n",
    "**4.** [**Data Acquisition & Description**](#Section4)<br>\n",
    "**5.** [**Data Pre-Profiling**](#Section5)<br>\n",
    "**6.** [**Data Cleaning**](#Section6)<br>\n",
    "**7.** [**Data Post-Profiling**](#Section7)<br>\n",
    "**8.** [**Exploratory Data Analysis**](#Section8)<br>\n",
    "  - [**8.1. What is the global trend of confirmed cases over time?**](#section81)<br>\n",
    "  - [**8.2. Which countries have the highest total confirmed cases?**](#section82)<br>\n",
    "  - [**8.3. What is the distribution of deaths across WHO regions?**](#section83)<br>\n",
    "  - [**8.4. How do recoveries compare across countries?**](#section84)<br>\n",
    "  - [**8.5. What is the trend of active cases globally?**](#section85)<br>\n",
    "  - [**8.6. Is there a correlation between confirmed cases and deaths?**](#section86)<br>\n",
    "  - [**8.7. How do confirmed cases vary across WHO regions?**](#section87)<br>\n",
    "  - [**8.8. What is the distribution of confirmed cases across countries?**](#section88)<br>\n",
    "  - [**8.9. Which countries have the highest number of deaths?**](#section89)<br>\n",
    "  - [**8.10. What is the geographical distribution of confirmed cases?**](#section810)<br>\n",
    "  - [**8.11. What is the trend of deaths over time globally?**](#section811)<br>\n",
    "  - [**8.12. How do active cases compare across countries?**](#section812)<br>\n",
    "\n",
    "**9.** [**Summarization**](#Section9)<br>\n",
    "  - **9.1** [**Conclusion**](#Section9.1)<br>\n",
    "  - **9.2** [**Actionable Insights***](#Section9.1)<br>"
   ]
  },
  {
   "cell_type": "markdown",
   "metadata": {},
   "source": [
    "---\n",
    "<a name = Section1></a>\n",
    "# **1. Introduction**\n",
    "---\n",
    "The **COVID-19 pandemic**, caused by the novel coronavirus **SARS-CoV-2**, emerged in **late 2019** and quickly escalated into a **global health crisis**. Worldwide, **governments**, **healthcare systems**, and **researchers** have relied on **data** to monitor the **spread**, **impact**, and **control** of the virus.\n",
    "\n",
    "This dataset offers a **comprehensive**, **time-series** view of COVID-19 cases across **countries** and **regions**, capturing essential metrics such as:\n",
    "\n",
    "- **Confirmed cases**\n",
    "- **Deaths**\n",
    "- **Recoveries**\n",
    "- **Active cases**\n",
    "- **Geographic coordinates**\n",
    "- **WHO regional classifications**\n",
    "\n",
    "The objective of this notebook is to perform **Exploratory Data Analysis (EDA)** to uncover **patterns**, **trends**, and **insights** that reveal the **dynamics** of the pandemic over time and across different **geographical** and **organizational** boundaries. These insights can support **public health strategies**, **policy-making**, and **future research**.\n",
    "\n",
    "---"
   ]
  },
  {
   "cell_type": "markdown",
   "metadata": {
    "id": "hlu2lFqK36SS"
   },
   "source": [
    "---\n",
    "<a name = Section2></a>\n",
    "# **2. Problem Statement**\n",
    "The goal of this **Exploratory Data Analysis (EDA)** is to derive actionable insights from the **COVID-19 dataset** by examining its **structure**, **quality**, and **temporal dynamics**. This analysis will:\n",
    "\n",
    "- Assess the **completeness** and **consistency** of the data.\n",
    "- Explore the **temporal progression** of the pandemic at **global** and **regional** levels.\n",
    "- Identify **countries** or **regions** with the highest and lowest **confirmed cases**, **death rates**, and **recovery rates**.\n",
    "- Analyze **trends in active cases** over time and across **WHO regions**.\n",
    "- Create **visualizations** to illustrate the **geographical spread** and **intensity** of the outbreak.\n",
    "- Detect **anomalies**, **reporting inconsistencies**, and **data gaps** that may affect interpretation.\n",
    "\n",
    "By the end of this EDA, we aim to uncover **meaningful patterns** that can support **public health responses**, guide **policy decisions**, and inspire **further research** into the pandemic’s impact and trajectory.\n",
    "\n",
    "\n",
    "---\n",
    "<center><img style=\"width:60%; height:350px\" src=\"\"  height=\"300\" width=\"\">"
   ]
  },
  {
   "cell_type": "markdown",
   "metadata": {
    "id": "Wn_v9EJlmPEX"
   },
   "source": [
    "---\n",
    "<a name = Section3></a>\n",
    "# **3. Installing and Importing Libraries**\n",
    "---"
   ]
  },
  {
   "cell_type": "markdown",
   "metadata": {},
   "source": [
    "<a name = Section31></a>\n",
    "### **3.1 Installing Libraries**"
   ]
  },
  {
   "cell_type": "code",
   "execution_count": null,
   "metadata": {},
   "outputs": [],
   "source": [
    "!pip install -q datascience                                         # Package that is required by pandas profiling\n",
    "!pip install -q pandas-profiling                                    # Library to generate basic statistics about data\n",
    "!pip install ydata_profiling"
   ]
  },
  {
   "cell_type": "markdown",
   "metadata": {},
   "source": [
    "<a name = Section32></a>\n",
    "### **3.2 Upgrading Libraries**\n",
    "\n",
    "- **After upgrading** the libraries, you need to **restart the runtime** to make the libraries in sync.\n",
    "\n",
    "- Make sure not to execute the cell under Installing Libraries and Upgrading Libraries again after restarting the runtime."
   ]
  },
  {
   "cell_type": "code",
   "execution_count": null,
   "metadata": {},
   "outputs": [],
   "source": [
    "!pip install -q --upgrade datascience                               # Package that is required by pandas profiling\n",
    "!pip install -q --upgrade pandas-profiling                          # Library to generate basic statistics about data"
   ]
  },
  {
   "cell_type": "markdown",
   "metadata": {},
   "source": [
    "<a name = Section33></a>\n",
    "### **3.3 Importing Libraries**\n",
    "\n",
    "- You can headstart with the basic libraries as imported inside the cell below.\n",
    "\n",
    "- If you want to import some additional libraries, feel free to do so.\n"
   ]
  },
  {
   "cell_type": "code",
   "execution_count": null,
   "metadata": {
    "id": "uR6m6f44l3j2"
   },
   "outputs": [],
   "source": [
    "#-------------------------------------------------------------------------------------------------------------------------------\n",
    "import pandas as pd                                                 # Importing for panel data analysis\n",
    "from ydata_profiling import ProfileReport                        # To perform data profiling\n",
    "pd.set_option('display.max_columns', None)                          # Unfolding hidden features if the cardinality is high\n",
    "pd.set_option('display.max_colwidth', None)                         # Unfolding the max feature width for better clearity\n",
    "pd.set_option('display.max_rows', None)                             # Unfolding hidden data points if the cardinality is high\n",
    "pd.set_option('mode.chained_assignment', None)                      # Removing restriction over chained assignments operations\n",
    "#-------------------------------------------------------------------------------------------------------------------------------\n",
    "import numpy as np                                                  # For numerical python operations\n",
    "#-------------------------------------------------------------------------------------------------------------------------------\n",
    "import plotly.graph_objs as go                                      # For interactive graphs\n",
    "#-------------------------------------------------------------------------------------------------------------------------------\n",
    "import warnings                                                     # Importing warning to disable runtime warnings\n",
    "warnings.filterwarnings(\"ignore\")                                   # Warnings will appear only once\n",
    "import matplotlib.pyplot as plt                 # Importing pyplot interface of matplotlib\n",
    "import seaborn as sns                           # Importing seaborn library for interactive visualization\n",
    "%matplotlib inline"
   ]
  },
  {
   "cell_type": "markdown",
   "metadata": {
    "id": "iHBtQli6mST2"
   },
   "source": [
    "---\n",
    "<a name = Section4></a>\n",
    "# **4. Data Acquisition & Description**\n",
    "---"
   ]
  },
  {
   "cell_type": "markdown",
   "metadata": {},
   "source": [
    "This section focuses on acquiring the dataset and understanding its **key features**.\n",
    "\n",
    "The data captures the **global progression of COVID-19**, providing detailed, time-series information on the pandemic's spread. It contains **49,068 records** representing daily counts of **confirmed cases**, **deaths**, **recoveries**, and **active cases** across various countries and regions.\n",
    "\n",
    "The dataset includes a mix of **geographic information**, **temporal attributes**, and **pandemic metrics**.\n",
    "\n",
    "Below is the detailed description of each feature in the dataset:\n",
    "\n",
    "| Id  | Feature              | Description                                                                 |\n",
    "|-----|----------------------|-----------------------------------------------------------------------------|\n",
    "| 01  | Province/State       | Province or state of the reported case                                     |\n",
    "| 02  | Country/Region       | Country or region of the reported case                                     |\n",
    "| 03  | Lat                  | Latitude of the location                                                    |\n",
    "| 04  | Long                 | Longitude of the location                                                   |\n",
    "| 05  | Date                 | Date of the reported case                                                  |\n",
    "| 06  | Confirmed            | Number of confirmed cases                                                  |\n",
    "| 07  | Deaths               | Number of deaths                                                           |\n",
    "| 08  | Recovered            | Number of recoveries                                                       |\n",
    "| 09  | Active               | Number of active cases                                                     |\n",
    "| 10  | WHO Region           | WHO region classification                                                  |\n",
    "\n",
    "> **Note**: Missing values appear in the `Province/State` column."
   ]
  },
  {
   "cell_type": "code",
   "execution_count": null,
   "metadata": {
    "colab": {
     "base_uri": "https://localhost:8080/",
     "height": 350
    },
    "executionInfo": {
     "elapsed": 1092,
     "status": "ok",
     "timestamp": 1605088464531,
     "user": {
      "displayName": "Hemanka Sarmah",
      "photoUrl": "",
      "userId": "10159490959382562036"
     },
     "user_tz": -330
    },
    "id": "RQZkNRpCmSqe",
    "outputId": "f07bf070-b9c5-426a-c909-7adeff5bf5c6"
   },
   "outputs": [],
   "source": [
    "data = pd.read_csv(filepath_or_buffer = 'https://raw.githubusercontent.com/amitkharche/exploratory_data_analysis_projects_amit_kharche/refs/heads/main/EDA_Covid19_India_Data_amit_kharche/covid_19_data.csv')\n",
    "print('Data Shape:', data.shape)\n",
    "data.head()"
   ]
  },
  {
   "cell_type": "markdown",
   "metadata": {
    "id": "rFGDlZeiou4J"
   },
   "source": [
    "<a id=section301></a>\n",
    "### Data Description\n",
    "\n",
    "* The dataset consist information of passenger borading and deboarding information and the services provided during the travel in flight.\n",
    "* Dataset has __83123 Observation__ and __24 columns__. Below is the name of the column and their description."
   ]
  },
  {
   "cell_type": "code",
   "execution_count": null,
   "metadata": {},
   "outputs": [],
   "source": [
    "data.describe().T"
   ]
  },
  {
   "cell_type": "markdown",
   "metadata": {},
   "source": [
    "### **Data Information**"
   ]
  },
  {
   "cell_type": "code",
   "execution_count": null,
   "metadata": {
    "colab": {
     "base_uri": "https://localhost:8080/"
    },
    "executionInfo": {
     "elapsed": 1001,
     "status": "ok",
     "timestamp": 1605088487065,
     "user": {
      "displayName": "Hemanka Sarmah",
      "photoUrl": "",
      "userId": "10159490959382562036"
     },
     "user_tz": -330
    },
    "id": "mpJ1vEaIoon5",
    "outputId": "6de8faaa-a13d-4cc8-c951-e6fc5672d7f2"
   },
   "outputs": [],
   "source": [
    "data.info()"
   ]
  },
  {
   "cell_type": "markdown",
   "metadata": {
    "id": "0wwyCxlc9lVT"
   },
   "source": [
    "**Observation**\n",
    "\n",
    "  - The train set has **83123 samples (rows)** and **24 columns**.\n",
    " \n",
    "  - There are **19 columns** with a **numeric** datatype and **5 columns** with an **object** datatype.\n",
    "  \n",
    "  - There are **missing** values in the data."
   ]
  },
  {
   "cell_type": "markdown",
   "metadata": {
    "id": "YyfqEge49yie"
   },
   "source": [
    "---\n",
    "<a name = Section5></a>\n",
    "# **5. Data Pre-Profiling**\n",
    "---"
   ]
  },
  {
   "cell_type": "markdown",
   "metadata": {
    "id": "AOpSDYR191dg"
   },
   "source": [
    "- Here, we will perform **Pandas Profiling before preprocessing** our dataset, so we will name the **output file** as __bd_train_before_preprocessing.html__. \n",
    "\n",
    "\n",
    "- The file will be stored in the directory of your notebook. Open it using the jupyter notebook file explorer and take a look at it and see what insights you can develop from it. \n",
    "\n",
    "\n",
    "- Or you can **output the profiling report** in the **current jupyter notebook** as well as shown in the code below. "
   ]
  },
  {
   "cell_type": "code",
   "execution_count": null,
   "metadata": {},
   "outputs": [],
   "source": [
    "\"\"\"from pandas_profiling import ProfileReport\n",
    "\n",
    "# Generate the profile report\n",
    "profile = ProfileReport(data, title=\"Profile Report\", explorative=True)\n",
    "\n",
    "# Save the report as HTML\n",
    "profile.to_file(\"Pre_Profiling_Report.html\")\n",
    "\n",
    "print(\"Profiling report saved successfully!\")\"\"\""
   ]
  },
  {
   "cell_type": "markdown",
   "metadata": {
    "id": "vp9vr7NX-GS8"
   },
   "source": [
    "---\n",
    "<a name = Section6></a>\n",
    "# **6. Data Cleaning**\n",
    "---"
   ]
  },
  {
   "cell_type": "markdown",
   "metadata": {
    "id": "SWobZjGU-KE0"
   },
   "source": [
    "<a id=section401></a>\n",
    "### 6.1 Data Preprocessing"
   ]
  },
  {
   "cell_type": "code",
   "execution_count": null,
   "metadata": {
    "colab": {
     "base_uri": "https://localhost:8080/"
    },
    "executionInfo": {
     "elapsed": 936,
     "status": "ok",
     "timestamp": 1605088515333,
     "user": {
      "displayName": "Hemanka Sarmah",
      "photoUrl": "",
      "userId": "10159490959382562036"
     },
     "user_tz": -330
    },
    "id": "I0spY1AX9_r4",
    "outputId": "3f76d89d-f61a-4cf3-9053-d3f55f031d36"
   },
   "outputs": [],
   "source": [
    "data.isnull().sum()"
   ]
  },
  {
   "cell_type": "code",
   "execution_count": null,
   "metadata": {},
   "outputs": [],
   "source": [
    "# Fill missing values in Province/State with 'Not Available'\n",
    "data['Province/State'].fillna('Not Available', inplace=True)"
   ]
  },
  {
   "cell_type": "code",
   "execution_count": null,
   "metadata": {},
   "outputs": [],
   "source": [
    "# Remove duplicate rows\n",
    "data.drop_duplicates(inplace=True)"
   ]
  },
  {
   "cell_type": "code",
   "execution_count": null,
   "metadata": {},
   "outputs": [],
   "source": [
    "# Convert 'Date' to datetime format\n",
    "data['Date'] = pd.to_datetime(data['Date'])"
   ]
  },
  {
   "cell_type": "code",
   "execution_count": null,
   "metadata": {},
   "outputs": [],
   "source": [
    "# Convert 'WHO Region' to categorical type\n",
    "data['WHO Region'] = data['WHO Region'].astype('category')"
   ]
  },
  {
   "cell_type": "code",
   "execution_count": null,
   "metadata": {},
   "outputs": [],
   "source": [
    "# Check for any remaining missing values\n",
    "missing_values = data.isnull().sum()\n",
    "print(\"Missing values after preprocessing:\")\n",
    "print(missing_values)"
   ]
  },
  {
   "cell_type": "markdown",
   "metadata": {},
   "source": [
    "<a id=section7></a>\n",
    "---\n",
    "<a name = Section7></a>\n",
    "# **7. Data Post-Profiling**\n",
    "---"
   ]
  },
  {
   "cell_type": "markdown",
   "metadata": {
    "id": "_7CkIy3muUTr"
   },
   "source": [
    "####  Pandas Profiling after Data Preprocessing"
   ]
  },
  {
   "cell_type": "markdown",
   "metadata": {
    "id": "IozUiNLjuUTs"
   },
   "source": [
    "- Here, we will perform **Pandas Profiling after preprocessing** our dataset, so we will name the **output file** as __avocado_train_after_preprocessing.html__."
   ]
  },
  {
   "cell_type": "code",
   "execution_count": null,
   "metadata": {},
   "outputs": [],
   "source": [
    "\"\"\"from pandas_profiling import ProfileReport\n",
    "\n",
    "# Generate the profile report\n",
    "profile = ProfileReport(data, title=\"Profile Report\", explorative=True)\n",
    "\n",
    "# Save the report as HTML\n",
    "profile.to_file(\"Post_Profiling_Report.html\")\n",
    "\n",
    "print(\"Profiling report saved successfully!\")\"\"\""
   ]
  },
  {
   "cell_type": "markdown",
   "metadata": {
    "id": "p7OXKPbLuUSx"
   },
   "source": [
    "---\n",
    "<a name = Section8></a>\n",
    "# **8. Exploratory Data Analysis**\n",
    "---"
   ]
  },
  {
   "cell_type": "markdown",
   "metadata": {},
   "source": [
    "<a id=section81></a>\n",
    "**8.1. What is the trend of confirmed cases over time globally?**"
   ]
  },
  {
   "cell_type": "code",
   "execution_count": null,
   "metadata": {},
   "outputs": [],
   "source": [
    "data.groupby('Date')['Confirmed'].sum().plot(kind='line', figsize=(10, 5), title='Global Confirmed Cases Over Time')"
   ]
  },
  {
   "cell_type": "markdown",
   "metadata": {},
   "source": [
    "### Observation:\n"
   ]
  },
  {
   "cell_type": "markdown",
   "metadata": {},
   "source": [
    "<a id=section82></a>\n",
    "**8.2. Which countries have the highest number of confirmed cases?**"
   ]
  },
  {
   "cell_type": "code",
   "execution_count": null,
   "metadata": {},
   "outputs": [],
   "source": [
    "data.groupby('Country/Region')['Confirmed'].sum().nlargest(10).plot(kind='bar', figsize=(10, 5), title='Top 10 Countries by Confirmed Cases')"
   ]
  },
  {
   "cell_type": "markdown",
   "metadata": {},
   "source": [
    "### Observation:\n",
    "\n"
   ]
  },
  {
   "cell_type": "markdown",
   "metadata": {},
   "source": [
    "<a id=section83></a>\n",
    "**8.3. What is the distribution of deaths across WHO regions?**"
   ]
  },
  {
   "cell_type": "code",
   "execution_count": null,
   "metadata": {
    "scrolled": true
   },
   "outputs": [],
   "source": [
    "import seaborn as sns\n",
    "sns.boxplot(x='WHO Region', y='Deaths', data=data)\n"
   ]
  },
  {
   "cell_type": "markdown",
   "metadata": {},
   "source": [
    "### Observation:\n",
    "\n"
   ]
  },
  {
   "cell_type": "markdown",
   "metadata": {},
   "source": [
    "<a id=section84></a>\n",
    "**8.4. How do recoveries compare across different countries?**"
   ]
  },
  {
   "cell_type": "code",
   "execution_count": null,
   "metadata": {},
   "outputs": [],
   "source": [
    "#data.groupby('Country/Region')['Recovered'].sum().nlargest(10).plot(kind='barh', color='green', figsize=(10, 5), title='Top 10 Countries by Recoveries')\n"
   ]
  },
  {
   "cell_type": "markdown",
   "metadata": {},
   "source": [
    "### Observation:\n",
    "\n"
   ]
  },
  {
   "cell_type": "markdown",
   "metadata": {},
   "source": [
    "<a id=section85></a>\n",
    "**8.5. What is the trend of active cases over time globally?**"
   ]
  },
  {
   "cell_type": "code",
   "execution_count": null,
   "metadata": {},
   "outputs": [],
   "source": [
    "#data.groupby('Date')['Active'].sum().plot(kind='area', alpha=0.4, figsize=(10, 5), title='Global Active Cases Over Time')"
   ]
  },
  {
   "cell_type": "markdown",
   "metadata": {},
   "source": [
    "### Observation:\n",
    "\n",
    "\n"
   ]
  },
  {
   "cell_type": "markdown",
   "metadata": {},
   "source": [
    "<a id=section86></a>\n",
    "**8.6. What is the correlation between confirmed cases and deaths?**"
   ]
  },
  {
   "cell_type": "code",
   "execution_count": null,
   "metadata": {},
   "outputs": [],
   "source": [
    "#sns.scatterplot(x='Confirmed', y='Deaths', data=data)"
   ]
  },
  {
   "cell_type": "markdown",
   "metadata": {},
   "source": [
    "### Observation:\n",
    "\n",
    "\n"
   ]
  },
  {
   "cell_type": "markdown",
   "metadata": {},
   "source": [
    "<a id=section87></a>\n",
    "**8.7. How do confirmed cases vary across WHO regions?**"
   ]
  },
  {
   "cell_type": "code",
   "execution_count": null,
   "metadata": {},
   "outputs": [],
   "source": [
    "#sns.violinplot(x='WHO Region', y='Confirmed', data=data)"
   ]
  },
  {
   "cell_type": "markdown",
   "metadata": {},
   "source": [
    "### Observation:\n",
    "\n",
    "\n"
   ]
  },
  {
   "cell_type": "markdown",
   "metadata": {},
   "source": [
    "<a id=section88></a>\n",
    "**8.8. What is the distribution of confirmed cases across countries?**"
   ]
  },
  {
   "cell_type": "code",
   "execution_count": null,
   "metadata": {},
   "outputs": [],
   "source": [
    "#data.groupby('Country/Region')['Confirmed'].sum().plot(kind='hist', bins=30, figsize=(10, 5), title='Distribution of Confirmed Cases')\n"
   ]
  },
  {
   "cell_type": "markdown",
   "metadata": {},
   "source": [
    "### Observation:\n",
    "\n",
    "\n"
   ]
  },
  {
   "cell_type": "markdown",
   "metadata": {},
   "source": [
    "<a id=section89></a>\n",
    "**8.9. Which countries have the highest number of deaths?**"
   ]
  },
  {
   "cell_type": "code",
   "execution_count": null,
   "metadata": {},
   "outputs": [],
   "source": [
    "#data.groupby('Country/Region')['Deaths'].sum().nlargest(10).plot(kind='bar', color='red', figsize=(10, 5), title='Top 10 Countries by Deaths')\n"
   ]
  },
  {
   "cell_type": "markdown",
   "metadata": {},
   "source": [
    "### Observation:\n",
    "\n"
   ]
  },
  {
   "cell_type": "markdown",
   "metadata": {},
   "source": [
    "<a id=section810></a>\n",
    "**8.10. What is the geographical distribution of confirmed cases?**"
   ]
  },
  {
   "cell_type": "code",
   "execution_count": null,
   "metadata": {},
   "outputs": [],
   "source": [
    "!pip install folium"
   ]
  },
  {
   "cell_type": "code",
   "execution_count": null,
   "metadata": {},
   "outputs": [],
   "source": [
    "import folium\n",
    "map = folium.Map(location=[20, 0], zoom_start=2)\n",
    "for _, row in data.iterrows():\n",
    "    folium.CircleMarker(\n",
    "        location=[row['Lat'], row['Long']],\n",
    "        radius=max(row['Confirmed'] / 100000, 1),\n",
    "        color='blue',\n",
    "        fill=True,\n",
    "        fill_color='blue'\n",
    "    ).add_to(map)\n",
    "map.save('covid_map.html')\n"
   ]
  },
  {
   "cell_type": "code",
   "execution_count": null,
   "metadata": {},
   "outputs": [],
   "source": [
    "import pandas as pd\n",
    "import folium\n",
    "from IPython.display import display\n",
    "\n",
    "# Load the dataset\n",
    "data = pd.read_csv('covid_19_data.csv')\n",
    "\n",
    "# Fill missing values\n",
    "data['Province/State'].fillna('Not Available', inplace=True)\n",
    "\n",
    "# Create a base map\n",
    "covid_map = folium.Map(location=[20, 0], zoom_start=2)\n",
    "\n",
    "# Add circle markers\n",
    "for _, row in data.iterrows():\n",
    "    if row['Confirmed'] > 0:\n",
    "        folium.CircleMarker(\n",
    "            location=[row['Lat'], row['Long']],\n",
    "            radius=max(row['Confirmed'] / 100000, 1),\n",
    "            color='blue',\n",
    "            fill=True,\n",
    "            fill_color='blue',\n",
    "            fill_opacity=0.6,\n",
    "            popup=f\"{row['Country/Region']}: {row['Confirmed']} cases\"\n",
    "        ).add_to(covid_map)\n",
    "\n",
    "# Display the map inline\n",
    "covid_map"
   ]
  },
  {
   "cell_type": "markdown",
   "metadata": {},
   "source": [
    "### Observation:\n",
    "\n",
    "\n"
   ]
  },
  {
   "cell_type": "code",
   "execution_count": null,
   "metadata": {},
   "outputs": [],
   "source": [
    "import pandas as pd\n",
    "import folium\n",
    "\n",
    "# Load the dataset\n",
    "data = pd.read_csv('covid_19_data.csv')\n",
    "data['Province/State'].fillna('Not Available', inplace=True)\n",
    "\n",
    "# Create the map\n",
    "covid_map = folium.Map(location=[20, 0], zoom_start=2)\n",
    "\n",
    "# Add markers with tooltips\n",
    "for _, row in data.iterrows():\n",
    "    if row['Confirmed'] > 0:\n",
    "        folium.CircleMarker(\n",
    "            location=[row['Lat'], row['Long']],\n",
    "            radius=max(row['Confirmed'] / 100000, 1),\n",
    "            color='blue',\n",
    "            fill=True,\n",
    "            fill_color='blue',\n",
    "            fill_opacity=0.6,\n",
    "            tooltip=f\"{row['Country/Region']}, {row['Province/State']}: {row['Confirmed']} cases\"\n",
    "        ).add_to(covid_map)\n",
    "\n",
    "# Display the map\n",
    "covid_map"
   ]
  },
  {
   "cell_type": "markdown",
   "metadata": {},
   "source": [
    "<a id=section811></a>\n",
    "**8.11. What is the trend of deaths over time globally?**"
   ]
  },
  {
   "cell_type": "code",
   "execution_count": null,
   "metadata": {},
   "outputs": [],
   "source": [
    "#data.groupby('Date')['Deaths'].sum().plot(kind='line', color='red', figsize=(10, 5), title='Global Deaths Over Time')"
   ]
  },
  {
   "cell_type": "markdown",
   "metadata": {},
   "source": [
    "### Observation:\n",
    "\n"
   ]
  },
  {
   "cell_type": "markdown",
   "metadata": {},
   "source": [
    "<a id=section812></a>\n",
    "**8.12. How do active cases compare across countries?**"
   ]
  },
  {
   "cell_type": "code",
   "execution_count": null,
   "metadata": {},
   "outputs": [],
   "source": [
    "#data.groupby('Country/Region')['Active'].sum().nlargest(10).plot(kind='bar', color='orange', figsize=(10, 5), title='Top 10 Countries by Active Cases')"
   ]
  },
  {
   "cell_type": "markdown",
   "metadata": {},
   "source": [
    "### Observation:\n",
    "\n"
   ]
  },
  {
   "cell_type": "markdown",
   "metadata": {
    "id": "zgRhYm2pehXn"
   },
   "source": [
    "---\n",
    "<a name = Section9></a>\n",
    "# **9. Summarization**\n",
    "---"
   ]
  },
  {
   "cell_type": "markdown",
   "metadata": {},
   "source": [
    "<a name = Section9.1></a>\n",
    "### **9.1 Conclusion**\n",
    "\n",
    "* Passenger satisfaction is influenced by a combination of **service quality**, **flight experience**, and **demographic factors**.\n",
    "* **Business class travelers**, **loyal customers**, and **older age groups** show higher satisfaction, suggesting these segments receive or perceive better service.\n",
    "* Service components like **seat comfort**, **inflight entertainment**, and **online boarding** play a critical role in determining overall satisfaction.\n",
    "* **Delays in flight schedules** significantly correlate with dissatisfaction, indicating the importance of operational efficiency.\n",
    "* While gender does not majorly impact satisfaction, **flight distance**, **purpose of travel**, and **digital touchpoints** like booking and check-in show clear patterns in passenger sentiment.\n"
   ]
  },
  {
   "cell_type": "markdown",
   "metadata": {},
   "source": [
    "<a name = Section9.2></a>\n",
    "### **9.2 Actionable Insights**\n",
    "\n",
    "\n",
    "1. **Enhance Service in Economy Class**\n",
    "\n",
    "   * Focus on improving comfort, food quality, and entertainment for **Eco class** passengers to elevate their experience.\n",
    "\n",
    "2. **Reward and Retain Loyal Customers**\n",
    "\n",
    "   * Maintain high service standards and personalized perks for **loyal customers** to drive long-term satisfaction and retention.\n",
    "\n",
    "3. **Prioritize On-time Performance**\n",
    "\n",
    "   * Invest in **operations and schedule management** to reduce both departure and arrival delays and improve satisfaction scores.\n",
    "\n",
    "4. **Upgrade Digital Interfaces**\n",
    "\n",
    "   * Improve the **ease of online booking** and **online boarding** processes to enhance the digital customer journey, especially for tech-savvy users.\n",
    "\n",
    "5. **Target Personal Travelers with Value Offers**\n",
    "\n",
    "   * Since **business travelers** are generally more satisfied, develop strategies and bundled offerings to **boost satisfaction for personal travelers**.\n",
    "\n",
    "6. **Focus on High-impact Amenities**\n",
    "\n",
    "   * Features like **seat comfort**, **entertainment**, and **cleanliness** should be continuously optimized as they strongly correlate with satisfaction.\n",
    "\n",
    "7. **Customize Experience by Age Segment**\n",
    "\n",
    "   * Offer tailored experiences or communication strategies for **younger passengers** to address their dissatisfaction trends.\n",
    "\n",
    "8. **Monitor and Leverage Flight Distance**\n",
    "\n",
    "   * Since **longer flights correlate with higher satisfaction**, ensure that short-haul flights receive **proportional quality** attention to bridge the gap.\n",
    "\n",
    "9. **Use Correlation Patterns to Align Services**\n",
    "\n",
    "   * Leverage high correlations among onboard services (e.g., **check-in, boarding, cleanliness**) to create **integrated service improvement plans**.\n"
   ]
  }
 ],
 "metadata": {
  "colab": {
   "authorship_tag": "ABX9TyMlCc+vBC1tmhggF9X+X796",
   "collapsed_sections": [],
   "name": "Classification - Flight Passenger Satisfaction Prediction (Student Version).ipynb",
   "provenance": [],
   "toc_visible": true
  },
  "kernelspec": {
   "display_name": "Python 3 (ipykernel)",
   "language": "python",
   "name": "python3"
  },
  "language_info": {
   "codemirror_mode": {
    "name": "ipython",
    "version": 3
   },
   "file_extension": ".py",
   "mimetype": "text/x-python",
   "name": "python",
   "nbconvert_exporter": "python",
   "pygments_lexer": "ipython3",
   "version": "3.12.3"
  },
  "widgets": {
   "application/vnd.jupyter.widget-state+json": {
    "state": {},
    "version_major": 2,
    "version_minor": 0
   }
  }
 },
 "nbformat": 4,
 "nbformat_minor": 4
}
